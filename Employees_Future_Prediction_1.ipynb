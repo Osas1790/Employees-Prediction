{
  "nbformat": 4,
  "nbformat_minor": 5,
  "metadata": {
    "kernelspec": {
      "display_name": "Python 3",
      "language": "python",
      "name": "python3"
    },
    "language_info": {
      "codemirror_mode": {
        "name": "ipython",
        "version": 3
      },
      "file_extension": ".py",
      "mimetype": "text/x-python",
      "name": "python",
      "nbconvert_exporter": "python",
      "pygments_lexer": "ipython3",
      "version": "3.8.8"
    },
    "toc": {
      "base_numbering": 1,
      "nav_menu": {},
      "number_sections": true,
      "sideBar": true,
      "skip_h1_title": false,
      "title_cell": "Table of Contents",
      "title_sidebar": "Contents",
      "toc_cell": false,
      "toc_position": {},
      "toc_section_display": true,
      "toc_window_display": false
    },
    "varInspector": {
      "cols": {
        "lenName": 16,
        "lenType": 16,
        "lenVar": 40
      },
      "kernels_config": {
        "python": {
          "delete_cmd_postfix": "",
          "delete_cmd_prefix": "del ",
          "library": "var_list.py",
          "varRefreshCmd": "print(var_dic_list())"
        },
        "r": {
          "delete_cmd_postfix": ") ",
          "delete_cmd_prefix": "rm(",
          "library": "var_list.r",
          "varRefreshCmd": "cat(var_dic_list()) "
        }
      },
      "types_to_exclude": [
        "module",
        "function",
        "builtin_function_or_method",
        "instance",
        "_Feature"
      ],
      "window_display": false
    },
    "colab": {
      "name": "Employees Future Prediction 1.ipynb",
      "provenance": [],
      "include_colab_link": true
    }
  },
  "cells": [
    {
      "cell_type": "markdown",
      "metadata": {
        "id": "view-in-github",
        "colab_type": "text"
      },
      "source": [
        "<a href=\"https://colab.research.google.com/github/Osas1790/Employees-Prediction/blob/main/Employees_Future_Prediction_1.ipynb\" target=\"_parent\"><img src=\"https://colab.research.google.com/assets/colab-badge.svg\" alt=\"Open In Colab\"/></a>"
      ]
    },
    {
      "cell_type": "markdown",
      "metadata": {
        "id": "ccef4f0c"
      },
      "source": [
        "## Employee Future Prediction"
      ],
      "id": "ccef4f0c"
    },
    {
      "cell_type": "markdown",
      "metadata": {
        "id": "c9e08022"
      },
      "source": [
        "##### Importing the Necessary Libraries"
      ],
      "id": "c9e08022"
    },
    {
      "cell_type": "code",
      "metadata": {
        "id": "1267c23e"
      },
      "source": [
        "import pandas as pd\n",
        "import numpy as np\n",
        "import matplotlib.pyplot as plt\n",
        "import seaborn as sns\n",
        "import plotly.express as px\n",
        "import plotly.graph_objects as go\n",
        "from sklearn import preprocessing \n",
        "from category_encoders import *\n",
        "from sklearn.preprocessing import LabelEncoder\n",
        "%matplotlib inline\n",
        "from sklearn.neighbors import KNeighborsClassifier\n",
        "from sklearn.ensemble import RandomForestClassifier\n",
        "from sklearn.linear_model import LogisticRegression\n",
        "from sklearn import datasets, linear_model, metrics\n",
        "from sklearn.metrics import  confusion_matrix\n",
        "from sklearn.metrics import accuracy_score, confusion_matrix, classification_report\n",
        "from sklearn.preprocessing import StandardScaler\n",
        "from sklearn.model_selection import train_test_split\n",
        "from sklearn.metrics import make_scorer, precision_score, precision_recall_curve, plot_precision_recall_curve, plot_roc_curve, roc_auc_score, roc_curve, f1_score, accuracy_score, recall_score\n",
        "from sklearn.metrics import classification_report,confusion_matrix\n",
        "import warnings\n",
        "warnings.filterwarnings('ignore')"
      ],
      "id": "1267c23e",
      "execution_count": null,
      "outputs": []
    },
    {
      "cell_type": "markdown",
      "metadata": {
        "id": "1c71f70f"
      },
      "source": [
        "##### Loading DataSet"
      ],
      "id": "1c71f70f"
    },
    {
      "cell_type": "code",
      "metadata": {
        "id": "47c51778"
      },
      "source": [
        "df = pd.read_csv(\"Employee.csv\")"
      ],
      "id": "47c51778",
      "execution_count": null,
      "outputs": []
    },
    {
      "cell_type": "code",
      "metadata": {
        "id": "ce72ff13",
        "outputId": "34746e6b-48e4-4899-ba4b-8c3acd321303"
      },
      "source": [
        "df.head(5)"
      ],
      "id": "ce72ff13",
      "execution_count": null,
      "outputs": [
        {
          "data": {
            "text/html": [
              "<div>\n",
              "<style scoped>\n",
              "    .dataframe tbody tr th:only-of-type {\n",
              "        vertical-align: middle;\n",
              "    }\n",
              "\n",
              "    .dataframe tbody tr th {\n",
              "        vertical-align: top;\n",
              "    }\n",
              "\n",
              "    .dataframe thead th {\n",
              "        text-align: right;\n",
              "    }\n",
              "</style>\n",
              "<table border=\"1\" class=\"dataframe\">\n",
              "  <thead>\n",
              "    <tr style=\"text-align: right;\">\n",
              "      <th></th>\n",
              "      <th>Education</th>\n",
              "      <th>JoiningYear</th>\n",
              "      <th>City</th>\n",
              "      <th>PaymentTier</th>\n",
              "      <th>Age</th>\n",
              "      <th>Gender</th>\n",
              "      <th>EverBenched</th>\n",
              "      <th>ExperienceInCurrentDomain</th>\n",
              "      <th>LeaveOrNot</th>\n",
              "    </tr>\n",
              "  </thead>\n",
              "  <tbody>\n",
              "    <tr>\n",
              "      <th>0</th>\n",
              "      <td>Bachelors</td>\n",
              "      <td>2017</td>\n",
              "      <td>Bangalore</td>\n",
              "      <td>3</td>\n",
              "      <td>34</td>\n",
              "      <td>Male</td>\n",
              "      <td>No</td>\n",
              "      <td>0</td>\n",
              "      <td>0</td>\n",
              "    </tr>\n",
              "    <tr>\n",
              "      <th>1</th>\n",
              "      <td>Bachelors</td>\n",
              "      <td>2013</td>\n",
              "      <td>Pune</td>\n",
              "      <td>1</td>\n",
              "      <td>28</td>\n",
              "      <td>Female</td>\n",
              "      <td>No</td>\n",
              "      <td>3</td>\n",
              "      <td>1</td>\n",
              "    </tr>\n",
              "    <tr>\n",
              "      <th>2</th>\n",
              "      <td>Bachelors</td>\n",
              "      <td>2014</td>\n",
              "      <td>New Delhi</td>\n",
              "      <td>3</td>\n",
              "      <td>38</td>\n",
              "      <td>Female</td>\n",
              "      <td>No</td>\n",
              "      <td>2</td>\n",
              "      <td>0</td>\n",
              "    </tr>\n",
              "    <tr>\n",
              "      <th>3</th>\n",
              "      <td>Masters</td>\n",
              "      <td>2016</td>\n",
              "      <td>Bangalore</td>\n",
              "      <td>3</td>\n",
              "      <td>27</td>\n",
              "      <td>Male</td>\n",
              "      <td>No</td>\n",
              "      <td>5</td>\n",
              "      <td>1</td>\n",
              "    </tr>\n",
              "    <tr>\n",
              "      <th>4</th>\n",
              "      <td>Masters</td>\n",
              "      <td>2017</td>\n",
              "      <td>Pune</td>\n",
              "      <td>3</td>\n",
              "      <td>24</td>\n",
              "      <td>Male</td>\n",
              "      <td>Yes</td>\n",
              "      <td>2</td>\n",
              "      <td>1</td>\n",
              "    </tr>\n",
              "  </tbody>\n",
              "</table>\n",
              "</div>"
            ],
            "text/plain": [
              "   Education  JoiningYear       City  PaymentTier  Age  Gender EverBenched  \\\n",
              "0  Bachelors         2017  Bangalore            3   34    Male          No   \n",
              "1  Bachelors         2013       Pune            1   28  Female          No   \n",
              "2  Bachelors         2014  New Delhi            3   38  Female          No   \n",
              "3    Masters         2016  Bangalore            3   27    Male          No   \n",
              "4    Masters         2017       Pune            3   24    Male         Yes   \n",
              "\n",
              "   ExperienceInCurrentDomain  LeaveOrNot  \n",
              "0                          0           0  \n",
              "1                          3           1  \n",
              "2                          2           0  \n",
              "3                          5           1  \n",
              "4                          2           1  "
            ]
          },
          "execution_count": 4,
          "metadata": {},
          "output_type": "execute_result"
        }
      ]
    },
    {
      "cell_type": "code",
      "metadata": {
        "id": "2bfffb6f",
        "outputId": "54adfb79-5088-41ae-e176-f30588354f4f"
      },
      "source": [
        "df.tail()"
      ],
      "id": "2bfffb6f",
      "execution_count": null,
      "outputs": [
        {
          "data": {
            "text/html": [
              "<div>\n",
              "<style scoped>\n",
              "    .dataframe tbody tr th:only-of-type {\n",
              "        vertical-align: middle;\n",
              "    }\n",
              "\n",
              "    .dataframe tbody tr th {\n",
              "        vertical-align: top;\n",
              "    }\n",
              "\n",
              "    .dataframe thead th {\n",
              "        text-align: right;\n",
              "    }\n",
              "</style>\n",
              "<table border=\"1\" class=\"dataframe\">\n",
              "  <thead>\n",
              "    <tr style=\"text-align: right;\">\n",
              "      <th></th>\n",
              "      <th>Education</th>\n",
              "      <th>JoiningYear</th>\n",
              "      <th>City</th>\n",
              "      <th>PaymentTier</th>\n",
              "      <th>Age</th>\n",
              "      <th>Gender</th>\n",
              "      <th>EverBenched</th>\n",
              "      <th>ExperienceInCurrentDomain</th>\n",
              "      <th>LeaveOrNot</th>\n",
              "    </tr>\n",
              "  </thead>\n",
              "  <tbody>\n",
              "    <tr>\n",
              "      <th>4648</th>\n",
              "      <td>Bachelors</td>\n",
              "      <td>2013</td>\n",
              "      <td>Bangalore</td>\n",
              "      <td>3</td>\n",
              "      <td>26</td>\n",
              "      <td>Female</td>\n",
              "      <td>No</td>\n",
              "      <td>4</td>\n",
              "      <td>0</td>\n",
              "    </tr>\n",
              "    <tr>\n",
              "      <th>4649</th>\n",
              "      <td>Masters</td>\n",
              "      <td>2013</td>\n",
              "      <td>Pune</td>\n",
              "      <td>2</td>\n",
              "      <td>37</td>\n",
              "      <td>Male</td>\n",
              "      <td>No</td>\n",
              "      <td>2</td>\n",
              "      <td>1</td>\n",
              "    </tr>\n",
              "    <tr>\n",
              "      <th>4650</th>\n",
              "      <td>Masters</td>\n",
              "      <td>2018</td>\n",
              "      <td>New Delhi</td>\n",
              "      <td>3</td>\n",
              "      <td>27</td>\n",
              "      <td>Male</td>\n",
              "      <td>No</td>\n",
              "      <td>5</td>\n",
              "      <td>1</td>\n",
              "    </tr>\n",
              "    <tr>\n",
              "      <th>4651</th>\n",
              "      <td>Bachelors</td>\n",
              "      <td>2012</td>\n",
              "      <td>Bangalore</td>\n",
              "      <td>3</td>\n",
              "      <td>30</td>\n",
              "      <td>Male</td>\n",
              "      <td>Yes</td>\n",
              "      <td>2</td>\n",
              "      <td>0</td>\n",
              "    </tr>\n",
              "    <tr>\n",
              "      <th>4652</th>\n",
              "      <td>Bachelors</td>\n",
              "      <td>2015</td>\n",
              "      <td>Bangalore</td>\n",
              "      <td>3</td>\n",
              "      <td>33</td>\n",
              "      <td>Male</td>\n",
              "      <td>Yes</td>\n",
              "      <td>4</td>\n",
              "      <td>0</td>\n",
              "    </tr>\n",
              "  </tbody>\n",
              "</table>\n",
              "</div>"
            ],
            "text/plain": [
              "      Education  JoiningYear       City  PaymentTier  Age  Gender EverBenched  \\\n",
              "4648  Bachelors         2013  Bangalore            3   26  Female          No   \n",
              "4649    Masters         2013       Pune            2   37    Male          No   \n",
              "4650    Masters         2018  New Delhi            3   27    Male          No   \n",
              "4651  Bachelors         2012  Bangalore            3   30    Male         Yes   \n",
              "4652  Bachelors         2015  Bangalore            3   33    Male         Yes   \n",
              "\n",
              "      ExperienceInCurrentDomain  LeaveOrNot  \n",
              "4648                          4           0  \n",
              "4649                          2           1  \n",
              "4650                          5           1  \n",
              "4651                          2           0  \n",
              "4652                          4           0  "
            ]
          },
          "execution_count": 5,
          "metadata": {},
          "output_type": "execute_result"
        }
      ]
    },
    {
      "cell_type": "markdown",
      "metadata": {
        "id": "a19e5fb7"
      },
      "source": [
        "##### Performing Exploratory Data Analysis"
      ],
      "id": "a19e5fb7"
    },
    {
      "cell_type": "code",
      "metadata": {
        "id": "1f51df6c",
        "outputId": "b0720f81-e62f-406a-9663-3c2c8e85b740"
      },
      "source": [
        "df.columns"
      ],
      "id": "1f51df6c",
      "execution_count": null,
      "outputs": [
        {
          "data": {
            "text/plain": [
              "Index(['Education', 'JoiningYear', 'City', 'PaymentTier', 'Age', 'Gender',\n",
              "       'EverBenched', 'ExperienceInCurrentDomain', 'LeaveOrNot'],\n",
              "      dtype='object')"
            ]
          },
          "execution_count": 6,
          "metadata": {},
          "output_type": "execute_result"
        }
      ]
    },
    {
      "cell_type": "code",
      "metadata": {
        "id": "3b551887",
        "outputId": "e81a2e09-0101-4c0b-a1ea-0192f877e3d2"
      },
      "source": [
        "# checking the dimension of the dataset\n",
        "df.shape"
      ],
      "id": "3b551887",
      "execution_count": null,
      "outputs": [
        {
          "data": {
            "text/plain": [
              "(4653, 9)"
            ]
          },
          "execution_count": 7,
          "metadata": {},
          "output_type": "execute_result"
        }
      ]
    },
    {
      "cell_type": "code",
      "metadata": {
        "id": "36fdfd4c",
        "outputId": "eb60e16c-d621-4745-a4a6-5e3567c6be93"
      },
      "source": [
        "# checking data type\n",
        "df.dtypes"
      ],
      "id": "36fdfd4c",
      "execution_count": null,
      "outputs": [
        {
          "data": {
            "text/plain": [
              "Education                    object\n",
              "JoiningYear                   int64\n",
              "City                         object\n",
              "PaymentTier                   int64\n",
              "Age                           int64\n",
              "Gender                       object\n",
              "EverBenched                  object\n",
              "ExperienceInCurrentDomain     int64\n",
              "LeaveOrNot                    int64\n",
              "dtype: object"
            ]
          },
          "execution_count": 8,
          "metadata": {},
          "output_type": "execute_result"
        }
      ]
    },
    {
      "cell_type": "code",
      "metadata": {
        "id": "3ca313fc",
        "outputId": "a19b6fab-3971-4e45-8638-2cc9cd57d81a"
      },
      "source": [
        "# cheking for na/null values in the dataset\n",
        "df.isna().value_counts()"
      ],
      "id": "3ca313fc",
      "execution_count": null,
      "outputs": [
        {
          "data": {
            "text/plain": [
              "Education  JoiningYear  City   PaymentTier  Age    Gender  EverBenched  ExperienceInCurrentDomain  LeaveOrNot\n",
              "False      False        False  False        False  False   False        False                      False         4653\n",
              "dtype: int64"
            ]
          },
          "execution_count": 9,
          "metadata": {},
          "output_type": "execute_result"
        }
      ]
    },
    {
      "cell_type": "code",
      "metadata": {
        "id": "67309950",
        "outputId": "3c43e5b2-ebb7-4327-8fc2-76d40dc851df"
      },
      "source": [
        "df.isna().sum() # checking the total sum of the missing values in each of the variables"
      ],
      "id": "67309950",
      "execution_count": null,
      "outputs": [
        {
          "data": {
            "text/plain": [
              "Education                    0\n",
              "JoiningYear                  0\n",
              "City                         0\n",
              "PaymentTier                  0\n",
              "Age                          0\n",
              "Gender                       0\n",
              "EverBenched                  0\n",
              "ExperienceInCurrentDomain    0\n",
              "LeaveOrNot                   0\n",
              "dtype: int64"
            ]
          },
          "execution_count": 10,
          "metadata": {},
          "output_type": "execute_result"
        }
      ]
    },
    {
      "cell_type": "markdown",
      "metadata": {
        "id": "a34b29e1"
      },
      "source": [
        "From the observation above, it shows that there are no missing values"
      ],
      "id": "a34b29e1"
    },
    {
      "cell_type": "code",
      "metadata": {
        "id": "2e688904",
        "outputId": "abffaaf5-544b-402e-cc78-8cad9ef32ee8"
      },
      "source": [
        "df.info()"
      ],
      "id": "2e688904",
      "execution_count": null,
      "outputs": [
        {
          "name": "stdout",
          "output_type": "stream",
          "text": [
            "<class 'pandas.core.frame.DataFrame'>\n",
            "RangeIndex: 4653 entries, 0 to 4652\n",
            "Data columns (total 9 columns):\n",
            " #   Column                     Non-Null Count  Dtype \n",
            "---  ------                     --------------  ----- \n",
            " 0   Education                  4653 non-null   object\n",
            " 1   JoiningYear                4653 non-null   int64 \n",
            " 2   City                       4653 non-null   object\n",
            " 3   PaymentTier                4653 non-null   int64 \n",
            " 4   Age                        4653 non-null   int64 \n",
            " 5   Gender                     4653 non-null   object\n",
            " 6   EverBenched                4653 non-null   object\n",
            " 7   ExperienceInCurrentDomain  4653 non-null   int64 \n",
            " 8   LeaveOrNot                 4653 non-null   int64 \n",
            "dtypes: int64(5), object(4)\n",
            "memory usage: 327.3+ KB\n"
          ]
        }
      ]
    },
    {
      "cell_type": "code",
      "metadata": {
        "id": "4bfd5618",
        "outputId": "6fdf5ff6-23e0-4e7f-ea93-0654314c9c0a"
      },
      "source": [
        "# checking for Nunique values in the variables\n",
        "df[\"Education\"].nunique()"
      ],
      "id": "4bfd5618",
      "execution_count": null,
      "outputs": [
        {
          "data": {
            "text/plain": [
              "3"
            ]
          },
          "execution_count": 12,
          "metadata": {},
          "output_type": "execute_result"
        }
      ]
    },
    {
      "cell_type": "code",
      "metadata": {
        "id": "0f859298",
        "outputId": "d0652ea1-4f11-4afe-870d-4e28c0326b4d"
      },
      "source": [
        "df[\"City\"].nunique()"
      ],
      "id": "0f859298",
      "execution_count": null,
      "outputs": [
        {
          "data": {
            "text/plain": [
              "3"
            ]
          },
          "execution_count": 13,
          "metadata": {},
          "output_type": "execute_result"
        }
      ]
    },
    {
      "cell_type": "code",
      "metadata": {
        "id": "bd392e6b",
        "outputId": "d389cbab-9c7b-4d9f-c307-975a310de8ec"
      },
      "source": [
        "df[\"JoiningYear\"].nunique()"
      ],
      "id": "bd392e6b",
      "execution_count": null,
      "outputs": [
        {
          "data": {
            "text/plain": [
              "7"
            ]
          },
          "execution_count": 14,
          "metadata": {},
          "output_type": "execute_result"
        }
      ]
    },
    {
      "cell_type": "code",
      "metadata": {
        "id": "249992be",
        "outputId": "b236c80f-dc8a-4bd5-f845-a017f5184cf0"
      },
      "source": [
        "df[\"EverBenched\"].nunique()"
      ],
      "id": "249992be",
      "execution_count": null,
      "outputs": [
        {
          "data": {
            "text/plain": [
              "2"
            ]
          },
          "execution_count": 15,
          "metadata": {},
          "output_type": "execute_result"
        }
      ]
    },
    {
      "cell_type": "code",
      "metadata": {
        "id": "e8a80702",
        "outputId": "e3a3ec20-1d8c-4a0f-e2fa-c38c07f490cc"
      },
      "source": [
        "# checking for duplicate values\n",
        "df.duplicated().value_counts()"
      ],
      "id": "e8a80702",
      "execution_count": null,
      "outputs": [
        {
          "data": {
            "text/plain": [
              "False    2764\n",
              "True     1889\n",
              "dtype: int64"
            ]
          },
          "execution_count": 16,
          "metadata": {},
          "output_type": "execute_result"
        }
      ]
    },
    {
      "cell_type": "markdown",
      "metadata": {
        "id": "e123a2bf"
      },
      "source": [
        "There are 1889 of duplicated values in the dataset"
      ],
      "id": "e123a2bf"
    },
    {
      "cell_type": "markdown",
      "metadata": {
        "id": "fc967584"
      },
      "source": [
        "##### Statistical analysis"
      ],
      "id": "fc967584"
    },
    {
      "cell_type": "code",
      "metadata": {
        "id": "369e43e6",
        "outputId": "b492a8d5-5ecf-49fd-ee9e-c9ab957fc958"
      },
      "source": [
        "df.describe().T"
      ],
      "id": "369e43e6",
      "execution_count": null,
      "outputs": [
        {
          "data": {
            "text/html": [
              "<div>\n",
              "<style scoped>\n",
              "    .dataframe tbody tr th:only-of-type {\n",
              "        vertical-align: middle;\n",
              "    }\n",
              "\n",
              "    .dataframe tbody tr th {\n",
              "        vertical-align: top;\n",
              "    }\n",
              "\n",
              "    .dataframe thead th {\n",
              "        text-align: right;\n",
              "    }\n",
              "</style>\n",
              "<table border=\"1\" class=\"dataframe\">\n",
              "  <thead>\n",
              "    <tr style=\"text-align: right;\">\n",
              "      <th></th>\n",
              "      <th>count</th>\n",
              "      <th>mean</th>\n",
              "      <th>std</th>\n",
              "      <th>min</th>\n",
              "      <th>25%</th>\n",
              "      <th>50%</th>\n",
              "      <th>75%</th>\n",
              "      <th>max</th>\n",
              "    </tr>\n",
              "  </thead>\n",
              "  <tbody>\n",
              "    <tr>\n",
              "      <th>JoiningYear</th>\n",
              "      <td>4653.0</td>\n",
              "      <td>2015.062970</td>\n",
              "      <td>1.863377</td>\n",
              "      <td>2012.0</td>\n",
              "      <td>2013.0</td>\n",
              "      <td>2015.0</td>\n",
              "      <td>2017.0</td>\n",
              "      <td>2018.0</td>\n",
              "    </tr>\n",
              "    <tr>\n",
              "      <th>PaymentTier</th>\n",
              "      <td>4653.0</td>\n",
              "      <td>2.698259</td>\n",
              "      <td>0.561435</td>\n",
              "      <td>1.0</td>\n",
              "      <td>3.0</td>\n",
              "      <td>3.0</td>\n",
              "      <td>3.0</td>\n",
              "      <td>3.0</td>\n",
              "    </tr>\n",
              "    <tr>\n",
              "      <th>Age</th>\n",
              "      <td>4653.0</td>\n",
              "      <td>29.393295</td>\n",
              "      <td>4.826087</td>\n",
              "      <td>22.0</td>\n",
              "      <td>26.0</td>\n",
              "      <td>28.0</td>\n",
              "      <td>32.0</td>\n",
              "      <td>41.0</td>\n",
              "    </tr>\n",
              "    <tr>\n",
              "      <th>ExperienceInCurrentDomain</th>\n",
              "      <td>4653.0</td>\n",
              "      <td>2.905652</td>\n",
              "      <td>1.558240</td>\n",
              "      <td>0.0</td>\n",
              "      <td>2.0</td>\n",
              "      <td>3.0</td>\n",
              "      <td>4.0</td>\n",
              "      <td>7.0</td>\n",
              "    </tr>\n",
              "    <tr>\n",
              "      <th>LeaveOrNot</th>\n",
              "      <td>4653.0</td>\n",
              "      <td>0.343864</td>\n",
              "      <td>0.475047</td>\n",
              "      <td>0.0</td>\n",
              "      <td>0.0</td>\n",
              "      <td>0.0</td>\n",
              "      <td>1.0</td>\n",
              "      <td>1.0</td>\n",
              "    </tr>\n",
              "  </tbody>\n",
              "</table>\n",
              "</div>"
            ],
            "text/plain": [
              "                            count         mean       std     min     25%  \\\n",
              "JoiningYear                4653.0  2015.062970  1.863377  2012.0  2013.0   \n",
              "PaymentTier                4653.0     2.698259  0.561435     1.0     3.0   \n",
              "Age                        4653.0    29.393295  4.826087    22.0    26.0   \n",
              "ExperienceInCurrentDomain  4653.0     2.905652  1.558240     0.0     2.0   \n",
              "LeaveOrNot                 4653.0     0.343864  0.475047     0.0     0.0   \n",
              "\n",
              "                              50%     75%     max  \n",
              "JoiningYear                2015.0  2017.0  2018.0  \n",
              "PaymentTier                   3.0     3.0     3.0  \n",
              "Age                          28.0    32.0    41.0  \n",
              "ExperienceInCurrentDomain     3.0     4.0     7.0  \n",
              "LeaveOrNot                    0.0     1.0     1.0  "
            ]
          },
          "execution_count": 17,
          "metadata": {},
          "output_type": "execute_result"
        }
      ]
    },
    {
      "cell_type": "code",
      "metadata": {
        "id": "7c8c5ba7",
        "outputId": "4dca8245-2dcf-4d53-9b4c-c81be97b673b"
      },
      "source": [
        "df.skew() # checking skweness "
      ],
      "id": "7c8c5ba7",
      "execution_count": null,
      "outputs": [
        {
          "data": {
            "text/plain": [
              "JoiningYear                 -0.113462\n",
              "PaymentTier                 -1.709531\n",
              "Age                          0.905195\n",
              "ExperienceInCurrentDomain   -0.162556\n",
              "LeaveOrNot                   0.657631\n",
              "dtype: float64"
            ]
          },
          "execution_count": 18,
          "metadata": {},
          "output_type": "execute_result"
        }
      ]
    },
    {
      "cell_type": "code",
      "metadata": {
        "id": "41adce80",
        "outputId": "a8455a40-24ee-443b-8414-0379a4d70b51"
      },
      "source": [
        "df.kurtosis()"
      ],
      "id": "41adce80",
      "execution_count": null,
      "outputs": [
        {
          "data": {
            "text/plain": [
              "JoiningYear                 -1.204425\n",
              "PaymentTier                  1.912203\n",
              "Age                         -0.299823\n",
              "ExperienceInCurrentDomain   -0.969413\n",
              "LeaveOrNot                  -1.568196\n",
              "dtype: float64"
            ]
          },
          "execution_count": 19,
          "metadata": {},
          "output_type": "execute_result"
        }
      ]
    },
    {
      "cell_type": "code",
      "metadata": {
        "id": "59c59484",
        "outputId": "5c6d3d6f-eade-495e-e94a-da34656d73f4"
      },
      "source": [
        "# checking for corralation among the variables\n",
        "df.corr()"
      ],
      "id": "59c59484",
      "execution_count": null,
      "outputs": [
        {
          "data": {
            "text/html": [
              "<div>\n",
              "<style scoped>\n",
              "    .dataframe tbody tr th:only-of-type {\n",
              "        vertical-align: middle;\n",
              "    }\n",
              "\n",
              "    .dataframe tbody tr th {\n",
              "        vertical-align: top;\n",
              "    }\n",
              "\n",
              "    .dataframe thead th {\n",
              "        text-align: right;\n",
              "    }\n",
              "</style>\n",
              "<table border=\"1\" class=\"dataframe\">\n",
              "  <thead>\n",
              "    <tr style=\"text-align: right;\">\n",
              "      <th></th>\n",
              "      <th>JoiningYear</th>\n",
              "      <th>PaymentTier</th>\n",
              "      <th>Age</th>\n",
              "      <th>ExperienceInCurrentDomain</th>\n",
              "      <th>LeaveOrNot</th>\n",
              "    </tr>\n",
              "  </thead>\n",
              "  <tbody>\n",
              "    <tr>\n",
              "      <th>JoiningYear</th>\n",
              "      <td>1.000000</td>\n",
              "      <td>-0.096078</td>\n",
              "      <td>0.013165</td>\n",
              "      <td>-0.036525</td>\n",
              "      <td>0.181705</td>\n",
              "    </tr>\n",
              "    <tr>\n",
              "      <th>PaymentTier</th>\n",
              "      <td>-0.096078</td>\n",
              "      <td>1.000000</td>\n",
              "      <td>0.007631</td>\n",
              "      <td>0.018314</td>\n",
              "      <td>-0.197638</td>\n",
              "    </tr>\n",
              "    <tr>\n",
              "      <th>Age</th>\n",
              "      <td>0.013165</td>\n",
              "      <td>0.007631</td>\n",
              "      <td>1.000000</td>\n",
              "      <td>-0.134643</td>\n",
              "      <td>-0.051126</td>\n",
              "    </tr>\n",
              "    <tr>\n",
              "      <th>ExperienceInCurrentDomain</th>\n",
              "      <td>-0.036525</td>\n",
              "      <td>0.018314</td>\n",
              "      <td>-0.134643</td>\n",
              "      <td>1.000000</td>\n",
              "      <td>-0.030504</td>\n",
              "    </tr>\n",
              "    <tr>\n",
              "      <th>LeaveOrNot</th>\n",
              "      <td>0.181705</td>\n",
              "      <td>-0.197638</td>\n",
              "      <td>-0.051126</td>\n",
              "      <td>-0.030504</td>\n",
              "      <td>1.000000</td>\n",
              "    </tr>\n",
              "  </tbody>\n",
              "</table>\n",
              "</div>"
            ],
            "text/plain": [
              "                           JoiningYear  PaymentTier       Age  \\\n",
              "JoiningYear                   1.000000    -0.096078  0.013165   \n",
              "PaymentTier                  -0.096078     1.000000  0.007631   \n",
              "Age                           0.013165     0.007631  1.000000   \n",
              "ExperienceInCurrentDomain    -0.036525     0.018314 -0.134643   \n",
              "LeaveOrNot                    0.181705    -0.197638 -0.051126   \n",
              "\n",
              "                           ExperienceInCurrentDomain  LeaveOrNot  \n",
              "JoiningYear                                -0.036525    0.181705  \n",
              "PaymentTier                                 0.018314   -0.197638  \n",
              "Age                                        -0.134643   -0.051126  \n",
              "ExperienceInCurrentDomain                   1.000000   -0.030504  \n",
              "LeaveOrNot                                 -0.030504    1.000000  "
            ]
          },
          "execution_count": 20,
          "metadata": {},
          "output_type": "execute_result"
        }
      ]
    },
    {
      "cell_type": "markdown",
      "metadata": {
        "id": "9741b6dc"
      },
      "source": [
        "### Data Visualisation"
      ],
      "id": "9741b6dc"
    },
    {
      "cell_type": "code",
      "metadata": {
        "id": "c73c9294",
        "outputId": "1cbc521b-7aad-430e-b622-e0fe94671337"
      },
      "source": [
        "df['Education'].value_counts()"
      ],
      "id": "c73c9294",
      "execution_count": null,
      "outputs": [
        {
          "data": {
            "text/plain": [
              "Bachelors    3601\n",
              "Masters       873\n",
              "PHD           179\n",
              "Name: Education, dtype: int64"
            ]
          },
          "execution_count": 21,
          "metadata": {},
          "output_type": "execute_result"
        }
      ]
    },
    {
      "cell_type": "code",
      "metadata": {
        "id": "e0f25c2b",
        "outputId": "9fdfe3ec-d75a-4248-f6fa-beab96037eec"
      },
      "source": [
        "sns.countplot(x = 'Education', data = df)\n",
        "plt.show()"
      ],
      "id": "e0f25c2b",
      "execution_count": null,
      "outputs": [
        {
          "data": {
            "image/png": "[encoded data removed]",
            "text/plain": [
              "<Figure size 432x288 with 1 Axes>"
            ]
          },
          "metadata": {
            "needs_background": "light"
          },
          "output_type": "display_data"
        }
      ]
    },
    {
      "cell_type": "markdown",
      "metadata": {
        "id": "159ac6a6"
      },
      "source": [
        "From the chart above Employees with Bachelors degree holders are more compare to Master and PHD"
      ],
      "id": "159ac6a6"
    },
    {
      "cell_type": "code",
      "metadata": {
        "id": "5d13cdb4",
        "outputId": "772312dd-c241-4d2e-f123-1b4571b1af4d"
      },
      "source": [
        "df['JoiningYear'].value_counts()"
      ],
      "id": "5d13cdb4",
      "execution_count": null,
      "outputs": [
        {
          "data": {
            "text/plain": [
              "2017    1108\n",
              "2015     781\n",
              "2014     699\n",
              "2013     669\n",
              "2016     525\n",
              "2012     504\n",
              "2018     367\n",
              "Name: JoiningYear, dtype: int64"
            ]
          },
          "execution_count": 23,
          "metadata": {},
          "output_type": "execute_result"
        }
      ]
    },
    {
      "cell_type": "code",
      "metadata": {
        "id": "098530fc",
        "outputId": "3ed35f00-0bc5-414f-d9e1-17271d867c3e"
      },
      "source": [
        "sns.countplot(x = 'JoiningYear',data = df)\n",
        "plt.show()"
      ],
      "id": "098530fc",
      "execution_count": null,
      "outputs": [
        {
          "data": {
            "image/png": "[encoded data removed]",
            "text/plain": [
              "<Figure size 432x288 with 1 Axes>"
            ]
          },
          "metadata": {
            "needs_background": "light"
          },
          "output_type": "display_data"
        }
      ]
    },
    {
      "cell_type": "markdown",
      "metadata": {
        "id": "0573c600"
      },
      "source": [
        "Majority of the employees joining the company in 2017 and 2015."
      ],
      "id": "0573c600"
    },
    {
      "cell_type": "markdown",
      "metadata": {
        "id": "0424e888"
      },
      "source": [
        "Majority of the employees joining the company in 2017 and 2015."
      ],
      "id": "0424e888"
    },
    {
      "cell_type": "code",
      "metadata": {
        "id": "b3b8c374",
        "outputId": "eaf0f9cf-7d8e-4639-b9e5-e7cd49dca232"
      },
      "source": [
        "df['City'].value_counts()"
      ],
      "id": "b3b8c374",
      "execution_count": null,
      "outputs": [
        {
          "data": {
            "text/plain": [
              "Bangalore    2228\n",
              "Pune         1268\n",
              "New Delhi    1157\n",
              "Name: City, dtype: int64"
            ]
          },
          "execution_count": 25,
          "metadata": {},
          "output_type": "execute_result"
        }
      ]
    },
    {
      "cell_type": "code",
      "metadata": {
        "id": "35f1b685",
        "outputId": "8604d93f-6af4-462d-c2ec-9792c80a2b14"
      },
      "source": [
        "sns.countplot(y = 'City', data = df)\n",
        "plt.show()"
      ],
      "id": "35f1b685",
      "execution_count": null,
      "outputs": [
        {
          "data": {
            "image/png": "[encoded data removed]",
            "text/plain": [
              "<Figure size 432x288 with 1 Axes>"
            ]
          },
          "metadata": {
            "needs_background": "light"
          },
          "output_type": "display_data"
        }
      ]
    },
    {
      "cell_type": "markdown",
      "metadata": {
        "id": "50fa4590"
      },
      "source": [
        "Majority of the employees in each of the city are from Banglore. Therefor, Banglore has the highest number of employees"
      ],
      "id": "50fa4590"
    },
    {
      "cell_type": "code",
      "metadata": {
        "id": "553f3cd6",
        "outputId": "efef56f1-571d-4696-e5a0-deb1720d2fb2"
      },
      "source": [
        "df['PaymentTier'].value_counts()"
      ],
      "id": "553f3cd6",
      "execution_count": null,
      "outputs": [
        {
          "data": {
            "text/plain": [
              "3    3492\n",
              "2     918\n",
              "1     243\n",
              "Name: PaymentTier, dtype: int64"
            ]
          },
          "execution_count": 27,
          "metadata": {},
          "output_type": "execute_result"
        }
      ]
    },
    {
      "cell_type": "code",
      "metadata": {
        "id": "01be105d",
        "outputId": "40311cb0-79aa-4b54-e1ea-81aacd959c64"
      },
      "source": [
        "sns.countplot(x = 'PaymentTier',data = df, palette=\"Set3\")\n",
        "plt.show()"
      ],
      "id": "01be105d",
      "execution_count": null,
      "outputs": [
        {
          "data": {
            "image/png": "[encoded data removed]",
            "text/plain": [
              "<Figure size 432x288 with 1 Axes>"
            ]
          },
          "metadata": {
            "needs_background": "light"
          },
          "output_type": "display_data"
        }
      ]
    },
    {
      "cell_type": "markdown",
      "metadata": {
        "id": "6b38fd95"
      },
      "source": [
        "Over 60% of the Employees belong to tier 3"
      ],
      "id": "6b38fd95"
    },
    {
      "cell_type": "code",
      "metadata": {
        "id": "b142f748",
        "outputId": "91a4fdb8-9081-4269-9139-dccc3e4cd4e9"
      },
      "source": [
        "df['Gender'].value_counts()"
      ],
      "id": "b142f748",
      "execution_count": null,
      "outputs": [
        {
          "data": {
            "text/plain": [
              "Male      2778\n",
              "Female    1875\n",
              "Name: Gender, dtype: int64"
            ]
          },
          "execution_count": 29,
          "metadata": {},
          "output_type": "execute_result"
        }
      ]
    },
    {
      "cell_type": "code",
      "metadata": {
        "id": "38f7ed4b",
        "outputId": "bde30b62-4283-4e32-97bb-87b9df51a71a"
      },
      "source": [
        "sns.countplot(x = 'Gender',data = df, palette=\"Set3\")\n",
        "plt.show()"
      ],
      "id": "38f7ed4b",
      "execution_count": null,
      "outputs": [
        {
          "data": {
            "image/png": "[encoded data removed]",
            "text/plain": [
              "<Figure size 432x288 with 1 Axes>"
            ]
          },
          "metadata": {
            "needs_background": "light"
          },
          "output_type": "display_data"
        }
      ]
    },
    {
      "cell_type": "code",
      "metadata": {
        "id": "31f34f10",
        "outputId": "836ea6bc-532c-4c3a-c80d-0e4b4deba89c"
      },
      "source": [
        "df['EverBenched'].value_counts()"
      ],
      "id": "31f34f10",
      "execution_count": null,
      "outputs": [
        {
          "data": {
            "text/plain": [
              "No     4175\n",
              "Yes     478\n",
              "Name: EverBenched, dtype: int64"
            ]
          },
          "execution_count": 31,
          "metadata": {},
          "output_type": "execute_result"
        }
      ]
    },
    {
      "cell_type": "code",
      "metadata": {
        "id": "1105d2a7",
        "outputId": "7e109edf-84f1-4b3d-a7e7-db2701a7866b"
      },
      "source": [
        "sns.countplot(x = 'EverBenched',data = df, palette=\"Set3\" )\n",
        "plt.show()"
      ],
      "id": "1105d2a7",
      "execution_count": null,
      "outputs": [
        {
          "data": {
            "image/png": "[encoded data removed]",
            "text/plain": [
              "<Figure size 432x288 with 1 Axes>"
            ]
          },
          "metadata": {
            "needs_background": "light"
          },
          "output_type": "display_data"
        }
      ]
    },
    {
      "cell_type": "code",
      "metadata": {
        "id": "7ce8a410",
        "outputId": "e3c5380f-7a44-4200-dea9-8670067e3a8e"
      },
      "source": [
        "df['ExperienceInCurrentDomain'].value_counts()"
      ],
      "id": "7ce8a410",
      "execution_count": null,
      "outputs": [
        {
          "data": {
            "text/plain": [
              "2    1087\n",
              "4     931\n",
              "5     919\n",
              "3     786\n",
              "1     558\n",
              "0     355\n",
              "7       9\n",
              "6       8\n",
              "Name: ExperienceInCurrentDomain, dtype: int64"
            ]
          },
          "execution_count": 33,
          "metadata": {},
          "output_type": "execute_result"
        }
      ]
    },
    {
      "cell_type": "code",
      "metadata": {
        "id": "e64a745c",
        "outputId": "fa19013d-6231-4534-9e7d-72ee2bfd78f3"
      },
      "source": [
        "sns.countplot(x = 'ExperienceInCurrentDomain',data = df, palette=\"Set3\" )\n",
        "plt.show()"
      ],
      "id": "e64a745c",
      "execution_count": null,
      "outputs": [
        {
          "data": {
            "image/png": "[encoded data removed]",
            "text/plain": [
              "<Figure size 432x288 with 1 Axes>"
            ]
          },
          "metadata": {
            "needs_background": "light"
          },
          "output_type": "display_data"
        }
      ]
    },
    {
      "cell_type": "code",
      "metadata": {
        "id": "01ea7537"
      },
      "source": [
        "df['LeaveOrNot'].value_counts()"
      ],
      "id": "01ea7537",
      "execution_count": null,
      "outputs": []
    },
    {
      "cell_type": "code",
      "metadata": {
        "id": "3db8d1ea"
      },
      "source": [
        "sns.countplot(x = 'LeaveOrNot',data = df, palette=\"Set3\" )\n",
        "plt.show()"
      ],
      "id": "3db8d1ea",
      "execution_count": null,
      "outputs": []
    },
    {
      "cell_type": "markdown",
      "metadata": {
        "id": "4ef5642f"
      },
      "source": [
        "From the chart above, it shows that most of the employees are not supposed to leave"
      ],
      "id": "4ef5642f"
    },
    {
      "cell_type": "markdown",
      "metadata": {
        "id": "7ce93ff8"
      },
      "source": [
        "###### unique values of each category"
      ],
      "id": "7ce93ff8"
    },
    {
      "cell_type": "code",
      "metadata": {
        "id": "da70b59c"
      },
      "source": [
        "from IPython.core.display import HTML\n",
        "def multi_table(table_list):\n",
        "    ''' Acceps a list of IpyTable objects and returns a table which contains each IpyTable in a cell\n",
        "    '''\n",
        "    return HTML(\n",
        "        '<table><tr style=\"background-color:white;\">' + \n",
        "        ''.join(['<td>' + table._repr_html_() + '</td>' for table in table_list]) +\n",
        "        '</tr></table>')"
      ],
      "id": "da70b59c",
      "execution_count": null,
      "outputs": []
    },
    {
      "cell_type": "code",
      "metadata": {
        "id": "2e6db230",
        "outputId": "0af236d0-a4e1-408a-b84e-2e7eaa5b12dd"
      },
      "source": [
        "df_nunique = {var: pd.DataFrame(df[var].value_counts())\n",
        "             for var in {'Education', 'JoiningYear', 'City', 'PaymentTier', 'Gender',\n",
        "       'EverBenched', 'ExperienceInCurrentDomain', 'LeaveOrNot'}}\n",
        "multi_table([df_nunique['Education'], df_nunique['JoiningYear'],df_nunique['City']\n",
        "            ,df_nunique['PaymentTier'],df_nunique['Gender'],df_nunique['EverBenched'],\n",
        "             df_nunique['ExperienceInCurrentDomain'],df_nunique['LeaveOrNot']])"
      ],
      "id": "2e6db230",
      "execution_count": null,
      "outputs": [
        {
          "data": {
            "text/html": [
              "<table><tr style=\"background-color:white;\"><td><div>\n",
              "<style scoped>\n",
              "    .dataframe tbody tr th:only-of-type {\n",
              "        vertical-align: middle;\n",
              "    }\n",
              "\n",
              "    .dataframe tbody tr th {\n",
              "        vertical-align: top;\n",
              "    }\n",
              "\n",
              "    .dataframe thead th {\n",
              "        text-align: right;\n",
              "    }\n",
              "</style>\n",
              "<table border=\"1\" class=\"dataframe\">\n",
              "  <thead>\n",
              "    <tr style=\"text-align: right;\">\n",
              "      <th></th>\n",
              "      <th>Education</th>\n",
              "    </tr>\n",
              "  </thead>\n",
              "  <tbody>\n",
              "    <tr>\n",
              "      <th>Bachelors</th>\n",
              "      <td>3601</td>\n",
              "    </tr>\n",
              "    <tr>\n",
              "      <th>Masters</th>\n",
              "      <td>873</td>\n",
              "    </tr>\n",
              "    <tr>\n",
              "      <th>PHD</th>\n",
              "      <td>179</td>\n",
              "    </tr>\n",
              "  </tbody>\n",
              "</table>\n",
              "</div></td><td><div>\n",
              "<style scoped>\n",
              "    .dataframe tbody tr th:only-of-type {\n",
              "        vertical-align: middle;\n",
              "    }\n",
              "\n",
              "    .dataframe tbody tr th {\n",
              "        vertical-align: top;\n",
              "    }\n",
              "\n",
              "    .dataframe thead th {\n",
              "        text-align: right;\n",
              "    }\n",
              "</style>\n",
              "<table border=\"1\" class=\"dataframe\">\n",
              "  <thead>\n",
              "    <tr style=\"text-align: right;\">\n",
              "      <th></th>\n",
              "      <th>JoiningYear</th>\n",
              "    </tr>\n",
              "  </thead>\n",
              "  <tbody>\n",
              "    <tr>\n",
              "      <th>2017</th>\n",
              "      <td>1108</td>\n",
              "    </tr>\n",
              "    <tr>\n",
              "      <th>2015</th>\n",
              "      <td>781</td>\n",
              "    </tr>\n",
              "    <tr>\n",
              "      <th>2014</th>\n",
              "      <td>699</td>\n",
              "    </tr>\n",
              "    <tr>\n",
              "      <th>2013</th>\n",
              "      <td>669</td>\n",
              "    </tr>\n",
              "    <tr>\n",
              "      <th>2016</th>\n",
              "      <td>525</td>\n",
              "    </tr>\n",
              "    <tr>\n",
              "      <th>2012</th>\n",
              "      <td>504</td>\n",
              "    </tr>\n",
              "    <tr>\n",
              "      <th>2018</th>\n",
              "      <td>367</td>\n",
              "    </tr>\n",
              "  </tbody>\n",
              "</table>\n",
              "</div></td><td><div>\n",
              "<style scoped>\n",
              "    .dataframe tbody tr th:only-of-type {\n",
              "        vertical-align: middle;\n",
              "    }\n",
              "\n",
              "    .dataframe tbody tr th {\n",
              "        vertical-align: top;\n",
              "    }\n",
              "\n",
              "    .dataframe thead th {\n",
              "        text-align: right;\n",
              "    }\n",
              "</style>\n",
              "<table border=\"1\" class=\"dataframe\">\n",
              "  <thead>\n",
              "    <tr style=\"text-align: right;\">\n",
              "      <th></th>\n",
              "      <th>City</th>\n",
              "    </tr>\n",
              "  </thead>\n",
              "  <tbody>\n",
              "    <tr>\n",
              "      <th>Bangalore</th>\n",
              "      <td>2228</td>\n",
              "    </tr>\n",
              "    <tr>\n",
              "      <th>Pune</th>\n",
              "      <td>1268</td>\n",
              "    </tr>\n",
              "    <tr>\n",
              "      <th>New Delhi</th>\n",
              "      <td>1157</td>\n",
              "    </tr>\n",
              "  </tbody>\n",
              "</table>\n",
              "</div></td><td><div>\n",
              "<style scoped>\n",
              "    .dataframe tbody tr th:only-of-type {\n",
              "        vertical-align: middle;\n",
              "    }\n",
              "\n",
              "    .dataframe tbody tr th {\n",
              "        vertical-align: top;\n",
              "    }\n",
              "\n",
              "    .dataframe thead th {\n",
              "        text-align: right;\n",
              "    }\n",
              "</style>\n",
              "<table border=\"1\" class=\"dataframe\">\n",
              "  <thead>\n",
              "    <tr style=\"text-align: right;\">\n",
              "      <th></th>\n",
              "      <th>PaymentTier</th>\n",
              "    </tr>\n",
              "  </thead>\n",
              "  <tbody>\n",
              "    <tr>\n",
              "      <th>3</th>\n",
              "      <td>3492</td>\n",
              "    </tr>\n",
              "    <tr>\n",
              "      <th>2</th>\n",
              "      <td>918</td>\n",
              "    </tr>\n",
              "    <tr>\n",
              "      <th>1</th>\n",
              "      <td>243</td>\n",
              "    </tr>\n",
              "  </tbody>\n",
              "</table>\n",
              "</div></td><td><div>\n",
              "<style scoped>\n",
              "    .dataframe tbody tr th:only-of-type {\n",
              "        vertical-align: middle;\n",
              "    }\n",
              "\n",
              "    .dataframe tbody tr th {\n",
              "        vertical-align: top;\n",
              "    }\n",
              "\n",
              "    .dataframe thead th {\n",
              "        text-align: right;\n",
              "    }\n",
              "</style>\n",
              "<table border=\"1\" class=\"dataframe\">\n",
              "  <thead>\n",
              "    <tr style=\"text-align: right;\">\n",
              "      <th></th>\n",
              "      <th>Gender</th>\n",
              "    </tr>\n",
              "  </thead>\n",
              "  <tbody>\n",
              "    <tr>\n",
              "      <th>Male</th>\n",
              "      <td>2778</td>\n",
              "    </tr>\n",
              "    <tr>\n",
              "      <th>Female</th>\n",
              "      <td>1875</td>\n",
              "    </tr>\n",
              "  </tbody>\n",
              "</table>\n",
              "</div></td><td><div>\n",
              "<style scoped>\n",
              "    .dataframe tbody tr th:only-of-type {\n",
              "        vertical-align: middle;\n",
              "    }\n",
              "\n",
              "    .dataframe tbody tr th {\n",
              "        vertical-align: top;\n",
              "    }\n",
              "\n",
              "    .dataframe thead th {\n",
              "        text-align: right;\n",
              "    }\n",
              "</style>\n",
              "<table border=\"1\" class=\"dataframe\">\n",
              "  <thead>\n",
              "    <tr style=\"text-align: right;\">\n",
              "      <th></th>\n",
              "      <th>EverBenched</th>\n",
              "    </tr>\n",
              "  </thead>\n",
              "  <tbody>\n",
              "    <tr>\n",
              "      <th>No</th>\n",
              "      <td>4175</td>\n",
              "    </tr>\n",
              "    <tr>\n",
              "      <th>Yes</th>\n",
              "      <td>478</td>\n",
              "    </tr>\n",
              "  </tbody>\n",
              "</table>\n",
              "</div></td><td><div>\n",
              "<style scoped>\n",
              "    .dataframe tbody tr th:only-of-type {\n",
              "        vertical-align: middle;\n",
              "    }\n",
              "\n",
              "    .dataframe tbody tr th {\n",
              "        vertical-align: top;\n",
              "    }\n",
              "\n",
              "    .dataframe thead th {\n",
              "        text-align: right;\n",
              "    }\n",
              "</style>\n",
              "<table border=\"1\" class=\"dataframe\">\n",
              "  <thead>\n",
              "    <tr style=\"text-align: right;\">\n",
              "      <th></th>\n",
              "      <th>ExperienceInCurrentDomain</th>\n",
              "    </tr>\n",
              "  </thead>\n",
              "  <tbody>\n",
              "    <tr>\n",
              "      <th>2</th>\n",
              "      <td>1087</td>\n",
              "    </tr>\n",
              "    <tr>\n",
              "      <th>4</th>\n",
              "      <td>931</td>\n",
              "    </tr>\n",
              "    <tr>\n",
              "      <th>5</th>\n",
              "      <td>919</td>\n",
              "    </tr>\n",
              "    <tr>\n",
              "      <th>3</th>\n",
              "      <td>786</td>\n",
              "    </tr>\n",
              "    <tr>\n",
              "      <th>1</th>\n",
              "      <td>558</td>\n",
              "    </tr>\n",
              "    <tr>\n",
              "      <th>0</th>\n",
              "      <td>355</td>\n",
              "    </tr>\n",
              "    <tr>\n",
              "      <th>7</th>\n",
              "      <td>9</td>\n",
              "    </tr>\n",
              "    <tr>\n",
              "      <th>6</th>\n",
              "      <td>8</td>\n",
              "    </tr>\n",
              "  </tbody>\n",
              "</table>\n",
              "</div></td><td><div>\n",
              "<style scoped>\n",
              "    .dataframe tbody tr th:only-of-type {\n",
              "        vertical-align: middle;\n",
              "    }\n",
              "\n",
              "    .dataframe tbody tr th {\n",
              "        vertical-align: top;\n",
              "    }\n",
              "\n",
              "    .dataframe thead th {\n",
              "        text-align: right;\n",
              "    }\n",
              "</style>\n",
              "<table border=\"1\" class=\"dataframe\">\n",
              "  <thead>\n",
              "    <tr style=\"text-align: right;\">\n",
              "      <th></th>\n",
              "      <th>LeaveOrNot</th>\n",
              "    </tr>\n",
              "  </thead>\n",
              "  <tbody>\n",
              "    <tr>\n",
              "      <th>0</th>\n",
              "      <td>3053</td>\n",
              "    </tr>\n",
              "    <tr>\n",
              "      <th>1</th>\n",
              "      <td>1600</td>\n",
              "    </tr>\n",
              "  </tbody>\n",
              "</table>\n",
              "</div></td></tr></table>"
            ],
            "text/plain": [
              "<IPython.core.display.HTML object>"
            ]
          },
          "execution_count": 36,
          "metadata": {},
          "output_type": "execute_result"
        }
      ]
    },
    {
      "cell_type": "markdown",
      "metadata": {
        "id": "b267f044"
      },
      "source": [
        "##### categorical variables(grouping)"
      ],
      "id": "b267f044"
    },
    {
      "cell_type": "code",
      "metadata": {
        "id": "3fa41397",
        "outputId": "aca5315c-2730-4853-bcf6-c0bf0bccdc88"
      },
      "source": [
        "df_groupby = {var: pd.DataFrame(df.groupby([var, 'Age']).size()) \n",
        "              for var in {'Education', 'JoiningYear', 'City', 'PaymentTier', 'Gender',\n",
        "       'EverBenched', 'ExperienceInCurrentDomain', 'LeaveOrNot'}}\n",
        "multi_table([df_groupby['Education'], df_groupby['JoiningYear'],df_groupby['City']\n",
        "            ,df_groupby['PaymentTier'],df_groupby['Gender'],df_groupby['EverBenched'],\n",
        "             df_groupby['ExperienceInCurrentDomain'],df_groupby['LeaveOrNot']])"
      ],
      "id": "3fa41397",
      "execution_count": null,
      "outputs": [
        {
          "data": {
            "text/html": [
              "<table><tr style=\"background-color:white;\"><td><div>\n",
              "<style scoped>\n",
              "    .dataframe tbody tr th:only-of-type {\n",
              "        vertical-align: middle;\n",
              "    }\n",
              "\n",
              "    .dataframe tbody tr th {\n",
              "        vertical-align: top;\n",
              "    }\n",
              "\n",
              "    .dataframe thead th {\n",
              "        text-align: right;\n",
              "    }\n",
              "</style>\n",
              "<table border=\"1\" class=\"dataframe\">\n",
              "  <thead>\n",
              "    <tr style=\"text-align: right;\">\n",
              "      <th></th>\n",
              "      <th></th>\n",
              "      <th>0</th>\n",
              "    </tr>\n",
              "    <tr>\n",
              "      <th>Education</th>\n",
              "      <th>Age</th>\n",
              "      <th></th>\n",
              "    </tr>\n",
              "  </thead>\n",
              "  <tbody>\n",
              "    <tr>\n",
              "      <th rowspan=\"20\" valign=\"top\">Bachelors</th>\n",
              "      <th>22</th>\n",
              "      <td>42</td>\n",
              "    </tr>\n",
              "    <tr>\n",
              "      <th>23</th>\n",
              "      <td>36</td>\n",
              "    </tr>\n",
              "    <tr>\n",
              "      <th>24</th>\n",
              "      <td>292</td>\n",
              "    </tr>\n",
              "    <tr>\n",
              "      <th>25</th>\n",
              "      <td>325</td>\n",
              "    </tr>\n",
              "    <tr>\n",
              "      <th>26</th>\n",
              "      <td>502</td>\n",
              "    </tr>\n",
              "    <tr>\n",
              "      <th>27</th>\n",
              "      <td>470</td>\n",
              "    </tr>\n",
              "    <tr>\n",
              "      <th>28</th>\n",
              "      <td>497</td>\n",
              "    </tr>\n",
              "    <tr>\n",
              "      <th>29</th>\n",
              "      <td>174</td>\n",
              "    </tr>\n",
              "    <tr>\n",
              "      <th>30</th>\n",
              "      <td>152</td>\n",
              "    </tr>\n",
              "    <tr>\n",
              "      <th>31</th>\n",
              "      <td>96</td>\n",
              "    </tr>\n",
              "    <tr>\n",
              "      <th>32</th>\n",
              "      <td>110</td>\n",
              "    </tr>\n",
              "    <tr>\n",
              "      <th>33</th>\n",
              "      <td>100</td>\n",
              "    </tr>\n",
              "    <tr>\n",
              "      <th>34</th>\n",
              "      <td>111</td>\n",
              "    </tr>\n",
              "    <tr>\n",
              "      <th>35</th>\n",
              "      <td>92</td>\n",
              "    </tr>\n",
              "    <tr>\n",
              "      <th>36</th>\n",
              "      <td>118</td>\n",
              "    </tr>\n",
              "    <tr>\n",
              "      <th>37</th>\n",
              "      <td>112</td>\n",
              "    </tr>\n",
              "    <tr>\n",
              "      <th>38</th>\n",
              "      <td>110</td>\n",
              "    </tr>\n",
              "    <tr>\n",
              "      <th>39</th>\n",
              "      <td>102</td>\n",
              "    </tr>\n",
              "    <tr>\n",
              "      <th>40</th>\n",
              "      <td>97</td>\n",
              "    </tr>\n",
              "    <tr>\n",
              "      <th>41</th>\n",
              "      <td>63</td>\n",
              "    </tr>\n",
              "    <tr>\n",
              "      <th rowspan=\"20\" valign=\"top\">Masters</th>\n",
              "      <th>22</th>\n",
              "      <td>4</td>\n",
              "    </tr>\n",
              "    <tr>\n",
              "      <th>23</th>\n",
              "      <td>9</td>\n",
              "    </tr>\n",
              "    <tr>\n",
              "      <th>24</th>\n",
              "      <td>74</td>\n",
              "    </tr>\n",
              "    <tr>\n",
              "      <th>25</th>\n",
              "      <td>79</td>\n",
              "    </tr>\n",
              "    <tr>\n",
              "      <th>26</th>\n",
              "      <td>130</td>\n",
              "    </tr>\n",
              "    <tr>\n",
              "      <th>27</th>\n",
              "      <td>123</td>\n",
              "    </tr>\n",
              "    <tr>\n",
              "      <th>28</th>\n",
              "      <td>111</td>\n",
              "    </tr>\n",
              "    <tr>\n",
              "      <th>29</th>\n",
              "      <td>45</td>\n",
              "    </tr>\n",
              "    <tr>\n",
              "      <th>30</th>\n",
              "      <td>57</td>\n",
              "    </tr>\n",
              "    <tr>\n",
              "      <th>31</th>\n",
              "      <td>23</td>\n",
              "    </tr>\n",
              "    <tr>\n",
              "      <th>32</th>\n",
              "      <td>19</td>\n",
              "    </tr>\n",
              "    <tr>\n",
              "      <th>33</th>\n",
              "      <td>20</td>\n",
              "    </tr>\n",
              "    <tr>\n",
              "      <th>34</th>\n",
              "      <td>19</td>\n",
              "    </tr>\n",
              "    <tr>\n",
              "      <th>35</th>\n",
              "      <td>26</td>\n",
              "    </tr>\n",
              "    <tr>\n",
              "      <th>36</th>\n",
              "      <td>18</td>\n",
              "    </tr>\n",
              "    <tr>\n",
              "      <th>37</th>\n",
              "      <td>23</td>\n",
              "    </tr>\n",
              "    <tr>\n",
              "      <th>38</th>\n",
              "      <td>22</td>\n",
              "    </tr>\n",
              "    <tr>\n",
              "      <th>39</th>\n",
              "      <td>26</td>\n",
              "    </tr>\n",
              "    <tr>\n",
              "      <th>40</th>\n",
              "      <td>30</td>\n",
              "    </tr>\n",
              "    <tr>\n",
              "      <th>41</th>\n",
              "      <td>15</td>\n",
              "    </tr>\n",
              "    <tr>\n",
              "      <th rowspan=\"20\" valign=\"top\">PHD</th>\n",
              "      <th>22</th>\n",
              "      <td>3</td>\n",
              "    </tr>\n",
              "    <tr>\n",
              "      <th>23</th>\n",
              "      <td>3</td>\n",
              "    </tr>\n",
              "    <tr>\n",
              "      <th>24</th>\n",
              "      <td>19</td>\n",
              "    </tr>\n",
              "    <tr>\n",
              "      <th>25</th>\n",
              "      <td>14</td>\n",
              "    </tr>\n",
              "    <tr>\n",
              "      <th>26</th>\n",
              "      <td>13</td>\n",
              "    </tr>\n",
              "    <tr>\n",
              "      <th>27</th>\n",
              "      <td>32</td>\n",
              "    </tr>\n",
              "    <tr>\n",
              "      <th>28</th>\n",
              "      <td>22</td>\n",
              "    </tr>\n",
              "    <tr>\n",
              "      <th>29</th>\n",
              "      <td>11</td>\n",
              "    </tr>\n",
              "    <tr>\n",
              "      <th>30</th>\n",
              "      <td>11</td>\n",
              "    </tr>\n",
              "    <tr>\n",
              "      <th>31</th>\n",
              "      <td>6</td>\n",
              "    </tr>\n",
              "    <tr>\n",
              "      <th>32</th>\n",
              "      <td>3</td>\n",
              "    </tr>\n",
              "    <tr>\n",
              "      <th>33</th>\n",
              "      <td>4</td>\n",
              "    </tr>\n",
              "    <tr>\n",
              "      <th>34</th>\n",
              "      <td>6</td>\n",
              "    </tr>\n",
              "    <tr>\n",
              "      <th>35</th>\n",
              "      <td>5</td>\n",
              "    </tr>\n",
              "    <tr>\n",
              "      <th>36</th>\n",
              "      <td>3</td>\n",
              "    </tr>\n",
              "    <tr>\n",
              "      <th>37</th>\n",
              "      <td>6</td>\n",
              "    </tr>\n",
              "    <tr>\n",
              "      <th>38</th>\n",
              "      <td>4</td>\n",
              "    </tr>\n",
              "    <tr>\n",
              "      <th>39</th>\n",
              "      <td>3</td>\n",
              "    </tr>\n",
              "    <tr>\n",
              "      <th>40</th>\n",
              "      <td>7</td>\n",
              "    </tr>\n",
              "    <tr>\n",
              "      <th>41</th>\n",
              "      <td>4</td>\n",
              "    </tr>\n",
              "  </tbody>\n",
              "</table>\n",
              "</div></td><td><div>\n",
              "<style scoped>\n",
              "    .dataframe tbody tr th:only-of-type {\n",
              "        vertical-align: middle;\n",
              "    }\n",
              "\n",
              "    .dataframe tbody tr th {\n",
              "        vertical-align: top;\n",
              "    }\n",
              "\n",
              "    .dataframe thead th {\n",
              "        text-align: right;\n",
              "    }\n",
              "</style>\n",
              "<table border=\"1\" class=\"dataframe\">\n",
              "  <thead>\n",
              "    <tr style=\"text-align: right;\">\n",
              "      <th></th>\n",
              "      <th></th>\n",
              "      <th>0</th>\n",
              "    </tr>\n",
              "    <tr>\n",
              "      <th>JoiningYear</th>\n",
              "      <th>Age</th>\n",
              "      <th></th>\n",
              "    </tr>\n",
              "  </thead>\n",
              "  <tbody>\n",
              "    <tr>\n",
              "      <th rowspan=\"5\" valign=\"top\">2012</th>\n",
              "      <th>22</th>\n",
              "      <td>4</td>\n",
              "    </tr>\n",
              "    <tr>\n",
              "      <th>23</th>\n",
              "      <td>5</td>\n",
              "    </tr>\n",
              "    <tr>\n",
              "      <th>24</th>\n",
              "      <td>34</td>\n",
              "    </tr>\n",
              "    <tr>\n",
              "      <th>25</th>\n",
              "      <td>39</td>\n",
              "    </tr>\n",
              "    <tr>\n",
              "      <th>26</th>\n",
              "      <td>73</td>\n",
              "    </tr>\n",
              "    <tr>\n",
              "      <th>...</th>\n",
              "      <th>...</th>\n",
              "      <td>...</td>\n",
              "    </tr>\n",
              "    <tr>\n",
              "      <th rowspan=\"5\" valign=\"top\">2018</th>\n",
              "      <th>37</th>\n",
              "      <td>9</td>\n",
              "    </tr>\n",
              "    <tr>\n",
              "      <th>38</th>\n",
              "      <td>12</td>\n",
              "    </tr>\n",
              "    <tr>\n",
              "      <th>39</th>\n",
              "      <td>9</td>\n",
              "    </tr>\n",
              "    <tr>\n",
              "      <th>40</th>\n",
              "      <td>15</td>\n",
              "    </tr>\n",
              "    <tr>\n",
              "      <th>41</th>\n",
              "      <td>5</td>\n",
              "    </tr>\n",
              "  </tbody>\n",
              "</table>\n",
              "<p>139 rows × 1 columns</p>\n",
              "</div></td><td><div>\n",
              "<style scoped>\n",
              "    .dataframe tbody tr th:only-of-type {\n",
              "        vertical-align: middle;\n",
              "    }\n",
              "\n",
              "    .dataframe tbody tr th {\n",
              "        vertical-align: top;\n",
              "    }\n",
              "\n",
              "    .dataframe thead th {\n",
              "        text-align: right;\n",
              "    }\n",
              "</style>\n",
              "<table border=\"1\" class=\"dataframe\">\n",
              "  <thead>\n",
              "    <tr style=\"text-align: right;\">\n",
              "      <th></th>\n",
              "      <th></th>\n",
              "      <th>0</th>\n",
              "    </tr>\n",
              "    <tr>\n",
              "      <th>City</th>\n",
              "      <th>Age</th>\n",
              "      <th></th>\n",
              "    </tr>\n",
              "  </thead>\n",
              "  <tbody>\n",
              "    <tr>\n",
              "      <th rowspan=\"20\" valign=\"top\">Bangalore</th>\n",
              "      <th>22</th>\n",
              "      <td>24</td>\n",
              "    </tr>\n",
              "    <tr>\n",
              "      <th>23</th>\n",
              "      <td>24</td>\n",
              "    </tr>\n",
              "    <tr>\n",
              "      <th>24</th>\n",
              "      <td>176</td>\n",
              "    </tr>\n",
              "    <tr>\n",
              "      <th>25</th>\n",
              "      <td>198</td>\n",
              "    </tr>\n",
              "    <tr>\n",
              "      <th>26</th>\n",
              "      <td>296</td>\n",
              "    </tr>\n",
              "    <tr>\n",
              "      <th>27</th>\n",
              "      <td>297</td>\n",
              "    </tr>\n",
              "    <tr>\n",
              "      <th>28</th>\n",
              "      <td>296</td>\n",
              "    </tr>\n",
              "    <tr>\n",
              "      <th>29</th>\n",
              "      <td>102</td>\n",
              "    </tr>\n",
              "    <tr>\n",
              "      <th>30</th>\n",
              "      <td>100</td>\n",
              "    </tr>\n",
              "    <tr>\n",
              "      <th>31</th>\n",
              "      <td>63</td>\n",
              "    </tr>\n",
              "    <tr>\n",
              "      <th>32</th>\n",
              "      <td>65</td>\n",
              "    </tr>\n",
              "    <tr>\n",
              "      <th>33</th>\n",
              "      <td>52</td>\n",
              "    </tr>\n",
              "    <tr>\n",
              "      <th>34</th>\n",
              "      <td>71</td>\n",
              "    </tr>\n",
              "    <tr>\n",
              "      <th>35</th>\n",
              "      <td>65</td>\n",
              "    </tr>\n",
              "    <tr>\n",
              "      <th>36</th>\n",
              "      <td>73</td>\n",
              "    </tr>\n",
              "    <tr>\n",
              "      <th>37</th>\n",
              "      <td>63</td>\n",
              "    </tr>\n",
              "    <tr>\n",
              "      <th>38</th>\n",
              "      <td>81</td>\n",
              "    </tr>\n",
              "    <tr>\n",
              "      <th>39</th>\n",
              "      <td>76</td>\n",
              "    </tr>\n",
              "    <tr>\n",
              "      <th>40</th>\n",
              "      <td>64</td>\n",
              "    </tr>\n",
              "    <tr>\n",
              "      <th>41</th>\n",
              "      <td>42</td>\n",
              "    </tr>\n",
              "    <tr>\n",
              "      <th rowspan=\"20\" valign=\"top\">New Delhi</th>\n",
              "      <th>22</th>\n",
              "      <td>14</td>\n",
              "    </tr>\n",
              "    <tr>\n",
              "      <th>23</th>\n",
              "      <td>14</td>\n",
              "    </tr>\n",
              "    <tr>\n",
              "      <th>24</th>\n",
              "      <td>95</td>\n",
              "    </tr>\n",
              "    <tr>\n",
              "      <th>25</th>\n",
              "      <td>114</td>\n",
              "    </tr>\n",
              "    <tr>\n",
              "      <th>26</th>\n",
              "      <td>166</td>\n",
              "    </tr>\n",
              "    <tr>\n",
              "      <th>27</th>\n",
              "      <td>156</td>\n",
              "    </tr>\n",
              "    <tr>\n",
              "      <th>28</th>\n",
              "      <td>164</td>\n",
              "    </tr>\n",
              "    <tr>\n",
              "      <th>29</th>\n",
              "      <td>60</td>\n",
              "    </tr>\n",
              "    <tr>\n",
              "      <th>30</th>\n",
              "      <td>61</td>\n",
              "    </tr>\n",
              "    <tr>\n",
              "      <th>31</th>\n",
              "      <td>27</td>\n",
              "    </tr>\n",
              "    <tr>\n",
              "      <th>32</th>\n",
              "      <td>22</td>\n",
              "    </tr>\n",
              "    <tr>\n",
              "      <th>33</th>\n",
              "      <td>36</td>\n",
              "    </tr>\n",
              "    <tr>\n",
              "      <th>34</th>\n",
              "      <td>32</td>\n",
              "    </tr>\n",
              "    <tr>\n",
              "      <th>35</th>\n",
              "      <td>27</td>\n",
              "    </tr>\n",
              "    <tr>\n",
              "      <th>36</th>\n",
              "      <td>30</td>\n",
              "    </tr>\n",
              "    <tr>\n",
              "      <th>37</th>\n",
              "      <td>35</td>\n",
              "    </tr>\n",
              "    <tr>\n",
              "      <th>38</th>\n",
              "      <td>30</td>\n",
              "    </tr>\n",
              "    <tr>\n",
              "      <th>39</th>\n",
              "      <td>16</td>\n",
              "    </tr>\n",
              "    <tr>\n",
              "      <th>40</th>\n",
              "      <td>36</td>\n",
              "    </tr>\n",
              "    <tr>\n",
              "      <th>41</th>\n",
              "      <td>22</td>\n",
              "    </tr>\n",
              "    <tr>\n",
              "      <th rowspan=\"20\" valign=\"top\">Pune</th>\n",
              "      <th>22</th>\n",
              "      <td>11</td>\n",
              "    </tr>\n",
              "    <tr>\n",
              "      <th>23</th>\n",
              "      <td>10</td>\n",
              "    </tr>\n",
              "    <tr>\n",
              "      <th>24</th>\n",
              "      <td>114</td>\n",
              "    </tr>\n",
              "    <tr>\n",
              "      <th>25</th>\n",
              "      <td>106</td>\n",
              "    </tr>\n",
              "    <tr>\n",
              "      <th>26</th>\n",
              "      <td>183</td>\n",
              "    </tr>\n",
              "    <tr>\n",
              "      <th>27</th>\n",
              "      <td>172</td>\n",
              "    </tr>\n",
              "    <tr>\n",
              "      <th>28</th>\n",
              "      <td>170</td>\n",
              "    </tr>\n",
              "    <tr>\n",
              "      <th>29</th>\n",
              "      <td>68</td>\n",
              "    </tr>\n",
              "    <tr>\n",
              "      <th>30</th>\n",
              "      <td>59</td>\n",
              "    </tr>\n",
              "    <tr>\n",
              "      <th>31</th>\n",
              "      <td>35</td>\n",
              "    </tr>\n",
              "    <tr>\n",
              "      <th>32</th>\n",
              "      <td>45</td>\n",
              "    </tr>\n",
              "    <tr>\n",
              "      <th>33</th>\n",
              "      <td>36</td>\n",
              "    </tr>\n",
              "    <tr>\n",
              "      <th>34</th>\n",
              "      <td>33</td>\n",
              "    </tr>\n",
              "    <tr>\n",
              "      <th>35</th>\n",
              "      <td>31</td>\n",
              "    </tr>\n",
              "    <tr>\n",
              "      <th>36</th>\n",
              "      <td>36</td>\n",
              "    </tr>\n",
              "    <tr>\n",
              "      <th>37</th>\n",
              "      <td>43</td>\n",
              "    </tr>\n",
              "    <tr>\n",
              "      <th>38</th>\n",
              "      <td>25</td>\n",
              "    </tr>\n",
              "    <tr>\n",
              "      <th>39</th>\n",
              "      <td>39</td>\n",
              "    </tr>\n",
              "    <tr>\n",
              "      <th>40</th>\n",
              "      <td>34</td>\n",
              "    </tr>\n",
              "    <tr>\n",
              "      <th>41</th>\n",
              "      <td>18</td>\n",
              "    </tr>\n",
              "  </tbody>\n",
              "</table>\n",
              "</div></td><td><div>\n",
              "<style scoped>\n",
              "    .dataframe tbody tr th:only-of-type {\n",
              "        vertical-align: middle;\n",
              "    }\n",
              "\n",
              "    .dataframe tbody tr th {\n",
              "        vertical-align: top;\n",
              "    }\n",
              "\n",
              "    .dataframe thead th {\n",
              "        text-align: right;\n",
              "    }\n",
              "</style>\n",
              "<table border=\"1\" class=\"dataframe\">\n",
              "  <thead>\n",
              "    <tr style=\"text-align: right;\">\n",
              "      <th></th>\n",
              "      <th></th>\n",
              "      <th>0</th>\n",
              "    </tr>\n",
              "    <tr>\n",
              "      <th>PaymentTier</th>\n",
              "      <th>Age</th>\n",
              "      <th></th>\n",
              "    </tr>\n",
              "  </thead>\n",
              "  <tbody>\n",
              "    <tr>\n",
              "      <th rowspan=\"20\" valign=\"top\">1</th>\n",
              "      <th>22</th>\n",
              "      <td>4</td>\n",
              "    </tr>\n",
              "    <tr>\n",
              "      <th>23</th>\n",
              "      <td>4</td>\n",
              "    </tr>\n",
              "    <tr>\n",
              "      <th>24</th>\n",
              "      <td>21</td>\n",
              "    </tr>\n",
              "    <tr>\n",
              "      <th>25</th>\n",
              "      <td>22</td>\n",
              "    </tr>\n",
              "    <tr>\n",
              "      <th>26</th>\n",
              "      <td>32</td>\n",
              "    </tr>\n",
              "    <tr>\n",
              "      <th>27</th>\n",
              "      <td>28</td>\n",
              "    </tr>\n",
              "    <tr>\n",
              "      <th>28</th>\n",
              "      <td>27</td>\n",
              "    </tr>\n",
              "    <tr>\n",
              "      <th>29</th>\n",
              "      <td>11</td>\n",
              "    </tr>\n",
              "    <tr>\n",
              "      <th>30</th>\n",
              "      <td>16</td>\n",
              "    </tr>\n",
              "    <tr>\n",
              "      <th>31</th>\n",
              "      <td>6</td>\n",
              "    </tr>\n",
              "    <tr>\n",
              "      <th>32</th>\n",
              "      <td>5</td>\n",
              "    </tr>\n",
              "    <tr>\n",
              "      <th>33</th>\n",
              "      <td>5</td>\n",
              "    </tr>\n",
              "    <tr>\n",
              "      <th>34</th>\n",
              "      <td>10</td>\n",
              "    </tr>\n",
              "    <tr>\n",
              "      <th>35</th>\n",
              "      <td>6</td>\n",
              "    </tr>\n",
              "    <tr>\n",
              "      <th>36</th>\n",
              "      <td>9</td>\n",
              "    </tr>\n",
              "    <tr>\n",
              "      <th>37</th>\n",
              "      <td>7</td>\n",
              "    </tr>\n",
              "    <tr>\n",
              "      <th>38</th>\n",
              "      <td>11</td>\n",
              "    </tr>\n",
              "    <tr>\n",
              "      <th>39</th>\n",
              "      <td>10</td>\n",
              "    </tr>\n",
              "    <tr>\n",
              "      <th>40</th>\n",
              "      <td>7</td>\n",
              "    </tr>\n",
              "    <tr>\n",
              "      <th>41</th>\n",
              "      <td>2</td>\n",
              "    </tr>\n",
              "    <tr>\n",
              "      <th rowspan=\"20\" valign=\"top\">2</th>\n",
              "      <th>22</th>\n",
              "      <td>10</td>\n",
              "    </tr>\n",
              "    <tr>\n",
              "      <th>23</th>\n",
              "      <td>9</td>\n",
              "    </tr>\n",
              "    <tr>\n",
              "      <th>24</th>\n",
              "      <td>73</td>\n",
              "    </tr>\n",
              "    <tr>\n",
              "      <th>25</th>\n",
              "      <td>87</td>\n",
              "    </tr>\n",
              "    <tr>\n",
              "      <th>26</th>\n",
              "      <td>132</td>\n",
              "    </tr>\n",
              "    <tr>\n",
              "      <th>27</th>\n",
              "      <td>131</td>\n",
              "    </tr>\n",
              "    <tr>\n",
              "      <th>28</th>\n",
              "      <td>123</td>\n",
              "    </tr>\n",
              "    <tr>\n",
              "      <th>29</th>\n",
              "      <td>46</td>\n",
              "    </tr>\n",
              "    <tr>\n",
              "      <th>30</th>\n",
              "      <td>48</td>\n",
              "    </tr>\n",
              "    <tr>\n",
              "      <th>31</th>\n",
              "      <td>21</td>\n",
              "    </tr>\n",
              "    <tr>\n",
              "      <th>32</th>\n",
              "      <td>25</td>\n",
              "    </tr>\n",
              "    <tr>\n",
              "      <th>33</th>\n",
              "      <td>26</td>\n",
              "    </tr>\n",
              "    <tr>\n",
              "      <th>34</th>\n",
              "      <td>25</td>\n",
              "    </tr>\n",
              "    <tr>\n",
              "      <th>35</th>\n",
              "      <td>25</td>\n",
              "    </tr>\n",
              "    <tr>\n",
              "      <th>36</th>\n",
              "      <td>35</td>\n",
              "    </tr>\n",
              "    <tr>\n",
              "      <th>37</th>\n",
              "      <td>27</td>\n",
              "    </tr>\n",
              "    <tr>\n",
              "      <th>38</th>\n",
              "      <td>17</td>\n",
              "    </tr>\n",
              "    <tr>\n",
              "      <th>39</th>\n",
              "      <td>25</td>\n",
              "    </tr>\n",
              "    <tr>\n",
              "      <th>40</th>\n",
              "      <td>18</td>\n",
              "    </tr>\n",
              "    <tr>\n",
              "      <th>41</th>\n",
              "      <td>15</td>\n",
              "    </tr>\n",
              "    <tr>\n",
              "      <th rowspan=\"20\" valign=\"top\">3</th>\n",
              "      <th>22</th>\n",
              "      <td>35</td>\n",
              "    </tr>\n",
              "    <tr>\n",
              "      <th>23</th>\n",
              "      <td>35</td>\n",
              "    </tr>\n",
              "    <tr>\n",
              "      <th>24</th>\n",
              "      <td>291</td>\n",
              "    </tr>\n",
              "    <tr>\n",
              "      <th>25</th>\n",
              "      <td>309</td>\n",
              "    </tr>\n",
              "    <tr>\n",
              "      <th>26</th>\n",
              "      <td>481</td>\n",
              "    </tr>\n",
              "    <tr>\n",
              "      <th>27</th>\n",
              "      <td>466</td>\n",
              "    </tr>\n",
              "    <tr>\n",
              "      <th>28</th>\n",
              "      <td>480</td>\n",
              "    </tr>\n",
              "    <tr>\n",
              "      <th>29</th>\n",
              "      <td>173</td>\n",
              "    </tr>\n",
              "    <tr>\n",
              "      <th>30</th>\n",
              "      <td>156</td>\n",
              "    </tr>\n",
              "    <tr>\n",
              "      <th>31</th>\n",
              "      <td>98</td>\n",
              "    </tr>\n",
              "    <tr>\n",
              "      <th>32</th>\n",
              "      <td>102</td>\n",
              "    </tr>\n",
              "    <tr>\n",
              "      <th>33</th>\n",
              "      <td>93</td>\n",
              "    </tr>\n",
              "    <tr>\n",
              "      <th>34</th>\n",
              "      <td>101</td>\n",
              "    </tr>\n",
              "    <tr>\n",
              "      <th>35</th>\n",
              "      <td>92</td>\n",
              "    </tr>\n",
              "    <tr>\n",
              "      <th>36</th>\n",
              "      <td>95</td>\n",
              "    </tr>\n",
              "    <tr>\n",
              "      <th>37</th>\n",
              "      <td>107</td>\n",
              "    </tr>\n",
              "    <tr>\n",
              "      <th>38</th>\n",
              "      <td>108</td>\n",
              "    </tr>\n",
              "    <tr>\n",
              "      <th>39</th>\n",
              "      <td>96</td>\n",
              "    </tr>\n",
              "    <tr>\n",
              "      <th>40</th>\n",
              "      <td>109</td>\n",
              "    </tr>\n",
              "    <tr>\n",
              "      <th>41</th>\n",
              "      <td>65</td>\n",
              "    </tr>\n",
              "  </tbody>\n",
              "</table>\n",
              "</div></td><td><div>\n",
              "<style scoped>\n",
              "    .dataframe tbody tr th:only-of-type {\n",
              "        vertical-align: middle;\n",
              "    }\n",
              "\n",
              "    .dataframe tbody tr th {\n",
              "        vertical-align: top;\n",
              "    }\n",
              "\n",
              "    .dataframe thead th {\n",
              "        text-align: right;\n",
              "    }\n",
              "</style>\n",
              "<table border=\"1\" class=\"dataframe\">\n",
              "  <thead>\n",
              "    <tr style=\"text-align: right;\">\n",
              "      <th></th>\n",
              "      <th></th>\n",
              "      <th>0</th>\n",
              "    </tr>\n",
              "    <tr>\n",
              "      <th>Gender</th>\n",
              "      <th>Age</th>\n",
              "      <th></th>\n",
              "    </tr>\n",
              "  </thead>\n",
              "  <tbody>\n",
              "    <tr>\n",
              "      <th rowspan=\"20\" valign=\"top\">Female</th>\n",
              "      <th>22</th>\n",
              "      <td>19</td>\n",
              "    </tr>\n",
              "    <tr>\n",
              "      <th>23</th>\n",
              "      <td>20</td>\n",
              "    </tr>\n",
              "    <tr>\n",
              "      <th>24</th>\n",
              "      <td>156</td>\n",
              "    </tr>\n",
              "    <tr>\n",
              "      <th>25</th>\n",
              "      <td>171</td>\n",
              "    </tr>\n",
              "    <tr>\n",
              "      <th>26</th>\n",
              "      <td>243</td>\n",
              "    </tr>\n",
              "    <tr>\n",
              "      <th>27</th>\n",
              "      <td>254</td>\n",
              "    </tr>\n",
              "    <tr>\n",
              "      <th>28</th>\n",
              "      <td>274</td>\n",
              "    </tr>\n",
              "    <tr>\n",
              "      <th>29</th>\n",
              "      <td>93</td>\n",
              "    </tr>\n",
              "    <tr>\n",
              "      <th>30</th>\n",
              "      <td>83</td>\n",
              "    </tr>\n",
              "    <tr>\n",
              "      <th>31</th>\n",
              "      <td>44</td>\n",
              "    </tr>\n",
              "    <tr>\n",
              "      <th>32</th>\n",
              "      <td>47</td>\n",
              "    </tr>\n",
              "    <tr>\n",
              "      <th>33</th>\n",
              "      <td>48</td>\n",
              "    </tr>\n",
              "    <tr>\n",
              "      <th>34</th>\n",
              "      <td>55</td>\n",
              "    </tr>\n",
              "    <tr>\n",
              "      <th>35</th>\n",
              "      <td>51</td>\n",
              "    </tr>\n",
              "    <tr>\n",
              "      <th>36</th>\n",
              "      <td>63</td>\n",
              "    </tr>\n",
              "    <tr>\n",
              "      <th>37</th>\n",
              "      <td>57</td>\n",
              "    </tr>\n",
              "    <tr>\n",
              "      <th>38</th>\n",
              "      <td>53</td>\n",
              "    </tr>\n",
              "    <tr>\n",
              "      <th>39</th>\n",
              "      <td>61</td>\n",
              "    </tr>\n",
              "    <tr>\n",
              "      <th>40</th>\n",
              "      <td>57</td>\n",
              "    </tr>\n",
              "    <tr>\n",
              "      <th>41</th>\n",
              "      <td>26</td>\n",
              "    </tr>\n",
              "    <tr>\n",
              "      <th rowspan=\"20\" valign=\"top\">Male</th>\n",
              "      <th>22</th>\n",
              "      <td>30</td>\n",
              "    </tr>\n",
              "    <tr>\n",
              "      <th>23</th>\n",
              "      <td>28</td>\n",
              "    </tr>\n",
              "    <tr>\n",
              "      <th>24</th>\n",
              "      <td>229</td>\n",
              "    </tr>\n",
              "    <tr>\n",
              "      <th>25</th>\n",
              "      <td>247</td>\n",
              "    </tr>\n",
              "    <tr>\n",
              "      <th>26</th>\n",
              "      <td>402</td>\n",
              "    </tr>\n",
              "    <tr>\n",
              "      <th>27</th>\n",
              "      <td>371</td>\n",
              "    </tr>\n",
              "    <tr>\n",
              "      <th>28</th>\n",
              "      <td>356</td>\n",
              "    </tr>\n",
              "    <tr>\n",
              "      <th>29</th>\n",
              "      <td>137</td>\n",
              "    </tr>\n",
              "    <tr>\n",
              "      <th>30</th>\n",
              "      <td>137</td>\n",
              "    </tr>\n",
              "    <tr>\n",
              "      <th>31</th>\n",
              "      <td>81</td>\n",
              "    </tr>\n",
              "    <tr>\n",
              "      <th>32</th>\n",
              "      <td>85</td>\n",
              "    </tr>\n",
              "    <tr>\n",
              "      <th>33</th>\n",
              "      <td>76</td>\n",
              "    </tr>\n",
              "    <tr>\n",
              "      <th>34</th>\n",
              "      <td>81</td>\n",
              "    </tr>\n",
              "    <tr>\n",
              "      <th>35</th>\n",
              "      <td>72</td>\n",
              "    </tr>\n",
              "    <tr>\n",
              "      <th>36</th>\n",
              "      <td>76</td>\n",
              "    </tr>\n",
              "    <tr>\n",
              "      <th>37</th>\n",
              "      <td>84</td>\n",
              "    </tr>\n",
              "    <tr>\n",
              "      <th>38</th>\n",
              "      <td>83</td>\n",
              "    </tr>\n",
              "    <tr>\n",
              "      <th>39</th>\n",
              "      <td>70</td>\n",
              "    </tr>\n",
              "    <tr>\n",
              "      <th>40</th>\n",
              "      <td>77</td>\n",
              "    </tr>\n",
              "    <tr>\n",
              "      <th>41</th>\n",
              "      <td>56</td>\n",
              "    </tr>\n",
              "  </tbody>\n",
              "</table>\n",
              "</div></td><td><div>\n",
              "<style scoped>\n",
              "    .dataframe tbody tr th:only-of-type {\n",
              "        vertical-align: middle;\n",
              "    }\n",
              "\n",
              "    .dataframe tbody tr th {\n",
              "        vertical-align: top;\n",
              "    }\n",
              "\n",
              "    .dataframe thead th {\n",
              "        text-align: right;\n",
              "    }\n",
              "</style>\n",
              "<table border=\"1\" class=\"dataframe\">\n",
              "  <thead>\n",
              "    <tr style=\"text-align: right;\">\n",
              "      <th></th>\n",
              "      <th></th>\n",
              "      <th>0</th>\n",
              "    </tr>\n",
              "    <tr>\n",
              "      <th>EverBenched</th>\n",
              "      <th>Age</th>\n",
              "      <th></th>\n",
              "    </tr>\n",
              "  </thead>\n",
              "  <tbody>\n",
              "    <tr>\n",
              "      <th rowspan=\"20\" valign=\"top\">No</th>\n",
              "      <th>22</th>\n",
              "      <td>44</td>\n",
              "    </tr>\n",
              "    <tr>\n",
              "      <th>23</th>\n",
              "      <td>43</td>\n",
              "    </tr>\n",
              "    <tr>\n",
              "      <th>24</th>\n",
              "      <td>350</td>\n",
              "    </tr>\n",
              "    <tr>\n",
              "      <th>25</th>\n",
              "      <td>372</td>\n",
              "    </tr>\n",
              "    <tr>\n",
              "      <th>26</th>\n",
              "      <td>585</td>\n",
              "    </tr>\n",
              "    <tr>\n",
              "      <th>27</th>\n",
              "      <td>545</td>\n",
              "    </tr>\n",
              "    <tr>\n",
              "      <th>28</th>\n",
              "      <td>568</td>\n",
              "    </tr>\n",
              "    <tr>\n",
              "      <th>29</th>\n",
              "      <td>206</td>\n",
              "    </tr>\n",
              "    <tr>\n",
              "      <th>30</th>\n",
              "      <td>192</td>\n",
              "    </tr>\n",
              "    <tr>\n",
              "      <th>31</th>\n",
              "      <td>111</td>\n",
              "    </tr>\n",
              "    <tr>\n",
              "      <th>32</th>\n",
              "      <td>119</td>\n",
              "    </tr>\n",
              "    <tr>\n",
              "      <th>33</th>\n",
              "      <td>113</td>\n",
              "    </tr>\n",
              "    <tr>\n",
              "      <th>34</th>\n",
              "      <td>117</td>\n",
              "    </tr>\n",
              "    <tr>\n",
              "      <th>35</th>\n",
              "      <td>108</td>\n",
              "    </tr>\n",
              "    <tr>\n",
              "      <th>36</th>\n",
              "      <td>127</td>\n",
              "    </tr>\n",
              "    <tr>\n",
              "      <th>37</th>\n",
              "      <td>135</td>\n",
              "    </tr>\n",
              "    <tr>\n",
              "      <th>38</th>\n",
              "      <td>123</td>\n",
              "    </tr>\n",
              "    <tr>\n",
              "      <th>39</th>\n",
              "      <td>124</td>\n",
              "    </tr>\n",
              "    <tr>\n",
              "      <th>40</th>\n",
              "      <td>119</td>\n",
              "    </tr>\n",
              "    <tr>\n",
              "      <th>41</th>\n",
              "      <td>74</td>\n",
              "    </tr>\n",
              "    <tr>\n",
              "      <th rowspan=\"20\" valign=\"top\">Yes</th>\n",
              "      <th>22</th>\n",
              "      <td>5</td>\n",
              "    </tr>\n",
              "    <tr>\n",
              "      <th>23</th>\n",
              "      <td>5</td>\n",
              "    </tr>\n",
              "    <tr>\n",
              "      <th>24</th>\n",
              "      <td>35</td>\n",
              "    </tr>\n",
              "    <tr>\n",
              "      <th>25</th>\n",
              "      <td>46</td>\n",
              "    </tr>\n",
              "    <tr>\n",
              "      <th>26</th>\n",
              "      <td>60</td>\n",
              "    </tr>\n",
              "    <tr>\n",
              "      <th>27</th>\n",
              "      <td>80</td>\n",
              "    </tr>\n",
              "    <tr>\n",
              "      <th>28</th>\n",
              "      <td>62</td>\n",
              "    </tr>\n",
              "    <tr>\n",
              "      <th>29</th>\n",
              "      <td>24</td>\n",
              "    </tr>\n",
              "    <tr>\n",
              "      <th>30</th>\n",
              "      <td>28</td>\n",
              "    </tr>\n",
              "    <tr>\n",
              "      <th>31</th>\n",
              "      <td>14</td>\n",
              "    </tr>\n",
              "    <tr>\n",
              "      <th>32</th>\n",
              "      <td>13</td>\n",
              "    </tr>\n",
              "    <tr>\n",
              "      <th>33</th>\n",
              "      <td>11</td>\n",
              "    </tr>\n",
              "    <tr>\n",
              "      <th>34</th>\n",
              "      <td>19</td>\n",
              "    </tr>\n",
              "    <tr>\n",
              "      <th>35</th>\n",
              "      <td>15</td>\n",
              "    </tr>\n",
              "    <tr>\n",
              "      <th>36</th>\n",
              "      <td>12</td>\n",
              "    </tr>\n",
              "    <tr>\n",
              "      <th>37</th>\n",
              "      <td>6</td>\n",
              "    </tr>\n",
              "    <tr>\n",
              "      <th>38</th>\n",
              "      <td>13</td>\n",
              "    </tr>\n",
              "    <tr>\n",
              "      <th>39</th>\n",
              "      <td>7</td>\n",
              "    </tr>\n",
              "    <tr>\n",
              "      <th>40</th>\n",
              "      <td>15</td>\n",
              "    </tr>\n",
              "    <tr>\n",
              "      <th>41</th>\n",
              "      <td>8</td>\n",
              "    </tr>\n",
              "  </tbody>\n",
              "</table>\n",
              "</div></td><td><div>\n",
              "<style scoped>\n",
              "    .dataframe tbody tr th:only-of-type {\n",
              "        vertical-align: middle;\n",
              "    }\n",
              "\n",
              "    .dataframe tbody tr th {\n",
              "        vertical-align: top;\n",
              "    }\n",
              "\n",
              "    .dataframe thead th {\n",
              "        text-align: right;\n",
              "    }\n",
              "</style>\n",
              "<table border=\"1\" class=\"dataframe\">\n",
              "  <thead>\n",
              "    <tr style=\"text-align: right;\">\n",
              "      <th></th>\n",
              "      <th></th>\n",
              "      <th>0</th>\n",
              "    </tr>\n",
              "    <tr>\n",
              "      <th>ExperienceInCurrentDomain</th>\n",
              "      <th>Age</th>\n",
              "      <th></th>\n",
              "    </tr>\n",
              "  </thead>\n",
              "  <tbody>\n",
              "    <tr>\n",
              "      <th rowspan=\"5\" valign=\"top\">0</th>\n",
              "      <th>22</th>\n",
              "      <td>49</td>\n",
              "    </tr>\n",
              "    <tr>\n",
              "      <th>28</th>\n",
              "      <td>59</td>\n",
              "    </tr>\n",
              "    <tr>\n",
              "      <th>29</th>\n",
              "      <td>19</td>\n",
              "    </tr>\n",
              "    <tr>\n",
              "      <th>30</th>\n",
              "      <td>27</td>\n",
              "    </tr>\n",
              "    <tr>\n",
              "      <th>31</th>\n",
              "      <td>26</td>\n",
              "    </tr>\n",
              "    <tr>\n",
              "      <th>...</th>\n",
              "      <th>...</th>\n",
              "      <td>...</td>\n",
              "    </tr>\n",
              "    <tr>\n",
              "      <th rowspan=\"5\" valign=\"top\">7</th>\n",
              "      <th>35</th>\n",
              "      <td>1</td>\n",
              "    </tr>\n",
              "    <tr>\n",
              "      <th>38</th>\n",
              "      <td>3</td>\n",
              "    </tr>\n",
              "    <tr>\n",
              "      <th>39</th>\n",
              "      <td>2</td>\n",
              "    </tr>\n",
              "    <tr>\n",
              "      <th>40</th>\n",
              "      <td>1</td>\n",
              "    </tr>\n",
              "    <tr>\n",
              "      <th>41</th>\n",
              "      <td>1</td>\n",
              "    </tr>\n",
              "  </tbody>\n",
              "</table>\n",
              "<p>100 rows × 1 columns</p>\n",
              "</div></td><td><div>\n",
              "<style scoped>\n",
              "    .dataframe tbody tr th:only-of-type {\n",
              "        vertical-align: middle;\n",
              "    }\n",
              "\n",
              "    .dataframe tbody tr th {\n",
              "        vertical-align: top;\n",
              "    }\n",
              "\n",
              "    .dataframe thead th {\n",
              "        text-align: right;\n",
              "    }\n",
              "</style>\n",
              "<table border=\"1\" class=\"dataframe\">\n",
              "  <thead>\n",
              "    <tr style=\"text-align: right;\">\n",
              "      <th></th>\n",
              "      <th></th>\n",
              "      <th>0</th>\n",
              "    </tr>\n",
              "    <tr>\n",
              "      <th>LeaveOrNot</th>\n",
              "      <th>Age</th>\n",
              "      <th></th>\n",
              "    </tr>\n",
              "  </thead>\n",
              "  <tbody>\n",
              "    <tr>\n",
              "      <th rowspan=\"20\" valign=\"top\">0</th>\n",
              "      <th>22</th>\n",
              "      <td>30</td>\n",
              "    </tr>\n",
              "    <tr>\n",
              "      <th>23</th>\n",
              "      <td>32</td>\n",
              "    </tr>\n",
              "    <tr>\n",
              "      <th>24</th>\n",
              "      <td>232</td>\n",
              "    </tr>\n",
              "    <tr>\n",
              "      <th>25</th>\n",
              "      <td>242</td>\n",
              "    </tr>\n",
              "    <tr>\n",
              "      <th>26</th>\n",
              "      <td>422</td>\n",
              "    </tr>\n",
              "    <tr>\n",
              "      <th>27</th>\n",
              "      <td>399</td>\n",
              "    </tr>\n",
              "    <tr>\n",
              "      <th>28</th>\n",
              "      <td>444</td>\n",
              "    </tr>\n",
              "    <tr>\n",
              "      <th>29</th>\n",
              "      <td>155</td>\n",
              "    </tr>\n",
              "    <tr>\n",
              "      <th>30</th>\n",
              "      <td>143</td>\n",
              "    </tr>\n",
              "    <tr>\n",
              "      <th>31</th>\n",
              "      <td>88</td>\n",
              "    </tr>\n",
              "    <tr>\n",
              "      <th>32</th>\n",
              "      <td>78</td>\n",
              "    </tr>\n",
              "    <tr>\n",
              "      <th>33</th>\n",
              "      <td>84</td>\n",
              "    </tr>\n",
              "    <tr>\n",
              "      <th>34</th>\n",
              "      <td>94</td>\n",
              "    </tr>\n",
              "    <tr>\n",
              "      <th>35</th>\n",
              "      <td>78</td>\n",
              "    </tr>\n",
              "    <tr>\n",
              "      <th>36</th>\n",
              "      <td>94</td>\n",
              "    </tr>\n",
              "    <tr>\n",
              "      <th>37</th>\n",
              "      <td>98</td>\n",
              "    </tr>\n",
              "    <tr>\n",
              "      <th>38</th>\n",
              "      <td>96</td>\n",
              "    </tr>\n",
              "    <tr>\n",
              "      <th>39</th>\n",
              "      <td>92</td>\n",
              "    </tr>\n",
              "    <tr>\n",
              "      <th>40</th>\n",
              "      <td>93</td>\n",
              "    </tr>\n",
              "    <tr>\n",
              "      <th>41</th>\n",
              "      <td>59</td>\n",
              "    </tr>\n",
              "    <tr>\n",
              "      <th rowspan=\"20\" valign=\"top\">1</th>\n",
              "      <th>22</th>\n",
              "      <td>19</td>\n",
              "    </tr>\n",
              "    <tr>\n",
              "      <th>23</th>\n",
              "      <td>16</td>\n",
              "    </tr>\n",
              "    <tr>\n",
              "      <th>24</th>\n",
              "      <td>153</td>\n",
              "    </tr>\n",
              "    <tr>\n",
              "      <th>25</th>\n",
              "      <td>176</td>\n",
              "    </tr>\n",
              "    <tr>\n",
              "      <th>26</th>\n",
              "      <td>223</td>\n",
              "    </tr>\n",
              "    <tr>\n",
              "      <th>27</th>\n",
              "      <td>226</td>\n",
              "    </tr>\n",
              "    <tr>\n",
              "      <th>28</th>\n",
              "      <td>186</td>\n",
              "    </tr>\n",
              "    <tr>\n",
              "      <th>29</th>\n",
              "      <td>75</td>\n",
              "    </tr>\n",
              "    <tr>\n",
              "      <th>30</th>\n",
              "      <td>77</td>\n",
              "    </tr>\n",
              "    <tr>\n",
              "      <th>31</th>\n",
              "      <td>37</td>\n",
              "    </tr>\n",
              "    <tr>\n",
              "      <th>32</th>\n",
              "      <td>54</td>\n",
              "    </tr>\n",
              "    <tr>\n",
              "      <th>33</th>\n",
              "      <td>40</td>\n",
              "    </tr>\n",
              "    <tr>\n",
              "      <th>34</th>\n",
              "      <td>42</td>\n",
              "    </tr>\n",
              "    <tr>\n",
              "      <th>35</th>\n",
              "      <td>45</td>\n",
              "    </tr>\n",
              "    <tr>\n",
              "      <th>36</th>\n",
              "      <td>45</td>\n",
              "    </tr>\n",
              "    <tr>\n",
              "      <th>37</th>\n",
              "      <td>43</td>\n",
              "    </tr>\n",
              "    <tr>\n",
              "      <th>38</th>\n",
              "      <td>40</td>\n",
              "    </tr>\n",
              "    <tr>\n",
              "      <th>39</th>\n",
              "      <td>39</td>\n",
              "    </tr>\n",
              "    <tr>\n",
              "      <th>40</th>\n",
              "      <td>41</td>\n",
              "    </tr>\n",
              "    <tr>\n",
              "      <th>41</th>\n",
              "      <td>23</td>\n",
              "    </tr>\n",
              "  </tbody>\n",
              "</table>\n",
              "</div></td></tr></table>"
            ],
            "text/plain": [
              "<IPython.core.display.HTML object>"
            ]
          },
          "execution_count": 37,
          "metadata": {},
          "output_type": "execute_result"
        }
      ]
    },
    {
      "cell_type": "code",
      "metadata": {
        "id": "b8a0006e",
        "outputId": "c1b8fa29-f158-406b-bc4d-0d47bd4e67f2"
      },
      "source": [
        "plt.figure(figsize=(10,8))\n",
        "ax = sns.heatmap(df.corr(),annot = True,cmap = \"YlGnBu\")\n",
        "plt.show()"
      ],
      "id": "b8a0006e",
      "execution_count": null,
      "outputs": [
        {
          "data": {
            "image/png": "[encoded data removed]",
            "text/plain": [
              "<Figure size 720x576 with 2 Axes>"
            ]
          },
          "metadata": {
            "needs_background": "light"
          },
          "output_type": "display_data"
        }
      ]
    },
    {
      "cell_type": "markdown",
      "metadata": {
        "id": "c88b5e0b"
      },
      "source": [
        "### Data Preprocessing"
      ],
      "id": "c88b5e0b"
    },
    {
      "cell_type": "code",
      "metadata": {
        "id": "3e6398a2",
        "outputId": "9d3562af-3abd-4a76-9cb5-bff6235c3b6c"
      },
      "source": [
        "df.isnull().sum()"
      ],
      "id": "3e6398a2",
      "execution_count": null,
      "outputs": [
        {
          "data": {
            "text/plain": [
              "Education                    0\n",
              "JoiningYear                  0\n",
              "City                         0\n",
              "PaymentTier                  0\n",
              "Age                          0\n",
              "Gender                       0\n",
              "EverBenched                  0\n",
              "ExperienceInCurrentDomain    0\n",
              "LeaveOrNot                   0\n",
              "dtype: int64"
            ]
          },
          "execution_count": 39,
          "metadata": {},
          "output_type": "execute_result"
        }
      ]
    },
    {
      "cell_type": "markdown",
      "metadata": {
        "id": "ea2d3cf4"
      },
      "source": [
        "### Encoding the catagorical variables"
      ],
      "id": "ea2d3cf4"
    },
    {
      "cell_type": "code",
      "metadata": {
        "id": "270b47ab",
        "outputId": "36171713-a00c-41cd-bd3e-fa6b015a85ca"
      },
      "source": [
        "df=pd.get_dummies(data=df,columns=['Education','City','Gender','EverBenched'],drop_first=True)\n",
        "df"
      ],
      "id": "270b47ab",
      "execution_count": null,
      "outputs": [
        {
          "data": {
            "text/html": [
              "<div>\n",
              "<style scoped>\n",
              "    .dataframe tbody tr th:only-of-type {\n",
              "        vertical-align: middle;\n",
              "    }\n",
              "\n",
              "    .dataframe tbody tr th {\n",
              "        vertical-align: top;\n",
              "    }\n",
              "\n",
              "    .dataframe thead th {\n",
              "        text-align: right;\n",
              "    }\n",
              "</style>\n",
              "<table border=\"1\" class=\"dataframe\">\n",
              "  <thead>\n",
              "    <tr style=\"text-align: right;\">\n",
              "      <th></th>\n",
              "      <th>JoiningYear</th>\n",
              "      <th>PaymentTier</th>\n",
              "      <th>Age</th>\n",
              "      <th>ExperienceInCurrentDomain</th>\n",
              "      <th>LeaveOrNot</th>\n",
              "      <th>Education_Masters</th>\n",
              "      <th>Education_PHD</th>\n",
              "      <th>City_New Delhi</th>\n",
              "      <th>City_Pune</th>\n",
              "      <th>Gender_Male</th>\n",
              "      <th>EverBenched_Yes</th>\n",
              "    </tr>\n",
              "  </thead>\n",
              "  <tbody>\n",
              "    <tr>\n",
              "      <th>0</th>\n",
              "      <td>2017</td>\n",
              "      <td>3</td>\n",
              "      <td>34</td>\n",
              "      <td>0</td>\n",
              "      <td>0</td>\n",
              "      <td>0</td>\n",
              "      <td>0</td>\n",
              "      <td>0</td>\n",
              "      <td>0</td>\n",
              "      <td>1</td>\n",
              "      <td>0</td>\n",
              "    </tr>\n",
              "    <tr>\n",
              "      <th>1</th>\n",
              "      <td>2013</td>\n",
              "      <td>1</td>\n",
              "      <td>28</td>\n",
              "      <td>3</td>\n",
              "      <td>1</td>\n",
              "      <td>0</td>\n",
              "      <td>0</td>\n",
              "      <td>0</td>\n",
              "      <td>1</td>\n",
              "      <td>0</td>\n",
              "      <td>0</td>\n",
              "    </tr>\n",
              "    <tr>\n",
              "      <th>2</th>\n",
              "      <td>2014</td>\n",
              "      <td>3</td>\n",
              "      <td>38</td>\n",
              "      <td>2</td>\n",
              "      <td>0</td>\n",
              "      <td>0</td>\n",
              "      <td>0</td>\n",
              "      <td>1</td>\n",
              "      <td>0</td>\n",
              "      <td>0</td>\n",
              "      <td>0</td>\n",
              "    </tr>\n",
              "    <tr>\n",
              "      <th>3</th>\n",
              "      <td>2016</td>\n",
              "      <td>3</td>\n",
              "      <td>27</td>\n",
              "      <td>5</td>\n",
              "      <td>1</td>\n",
              "      <td>1</td>\n",
              "      <td>0</td>\n",
              "      <td>0</td>\n",
              "      <td>0</td>\n",
              "      <td>1</td>\n",
              "      <td>0</td>\n",
              "    </tr>\n",
              "    <tr>\n",
              "      <th>4</th>\n",
              "      <td>2017</td>\n",
              "      <td>3</td>\n",
              "      <td>24</td>\n",
              "      <td>2</td>\n",
              "      <td>1</td>\n",
              "      <td>1</td>\n",
              "      <td>0</td>\n",
              "      <td>0</td>\n",
              "      <td>1</td>\n",
              "      <td>1</td>\n",
              "      <td>1</td>\n",
              "    </tr>\n",
              "    <tr>\n",
              "      <th>...</th>\n",
              "      <td>...</td>\n",
              "      <td>...</td>\n",
              "      <td>...</td>\n",
              "      <td>...</td>\n",
              "      <td>...</td>\n",
              "      <td>...</td>\n",
              "      <td>...</td>\n",
              "      <td>...</td>\n",
              "      <td>...</td>\n",
              "      <td>...</td>\n",
              "      <td>...</td>\n",
              "    </tr>\n",
              "    <tr>\n",
              "      <th>4648</th>\n",
              "      <td>2013</td>\n",
              "      <td>3</td>\n",
              "      <td>26</td>\n",
              "      <td>4</td>\n",
              "      <td>0</td>\n",
              "      <td>0</td>\n",
              "      <td>0</td>\n",
              "      <td>0</td>\n",
              "      <td>0</td>\n",
              "      <td>0</td>\n",
              "      <td>0</td>\n",
              "    </tr>\n",
              "    <tr>\n",
              "      <th>4649</th>\n",
              "      <td>2013</td>\n",
              "      <td>2</td>\n",
              "      <td>37</td>\n",
              "      <td>2</td>\n",
              "      <td>1</td>\n",
              "      <td>1</td>\n",
              "      <td>0</td>\n",
              "      <td>0</td>\n",
              "      <td>1</td>\n",
              "      <td>1</td>\n",
              "      <td>0</td>\n",
              "    </tr>\n",
              "    <tr>\n",
              "      <th>4650</th>\n",
              "      <td>2018</td>\n",
              "      <td>3</td>\n",
              "      <td>27</td>\n",
              "      <td>5</td>\n",
              "      <td>1</td>\n",
              "      <td>1</td>\n",
              "      <td>0</td>\n",
              "      <td>1</td>\n",
              "      <td>0</td>\n",
              "      <td>1</td>\n",
              "      <td>0</td>\n",
              "    </tr>\n",
              "    <tr>\n",
              "      <th>4651</th>\n",
              "      <td>2012</td>\n",
              "      <td>3</td>\n",
              "      <td>30</td>\n",
              "      <td>2</td>\n",
              "      <td>0</td>\n",
              "      <td>0</td>\n",
              "      <td>0</td>\n",
              "      <td>0</td>\n",
              "      <td>0</td>\n",
              "      <td>1</td>\n",
              "      <td>1</td>\n",
              "    </tr>\n",
              "    <tr>\n",
              "      <th>4652</th>\n",
              "      <td>2015</td>\n",
              "      <td>3</td>\n",
              "      <td>33</td>\n",
              "      <td>4</td>\n",
              "      <td>0</td>\n",
              "      <td>0</td>\n",
              "      <td>0</td>\n",
              "      <td>0</td>\n",
              "      <td>0</td>\n",
              "      <td>1</td>\n",
              "      <td>1</td>\n",
              "    </tr>\n",
              "  </tbody>\n",
              "</table>\n",
              "<p>4653 rows × 11 columns</p>\n",
              "</div>"
            ],
            "text/plain": [
              "      JoiningYear  PaymentTier  Age  ExperienceInCurrentDomain  LeaveOrNot  \\\n",
              "0            2017            3   34                          0           0   \n",
              "1            2013            1   28                          3           1   \n",
              "2            2014            3   38                          2           0   \n",
              "3            2016            3   27                          5           1   \n",
              "4            2017            3   24                          2           1   \n",
              "...           ...          ...  ...                        ...         ...   \n",
              "4648         2013            3   26                          4           0   \n",
              "4649         2013            2   37                          2           1   \n",
              "4650         2018            3   27                          5           1   \n",
              "4651         2012            3   30                          2           0   \n",
              "4652         2015            3   33                          4           0   \n",
              "\n",
              "      Education_Masters  Education_PHD  City_New Delhi  City_Pune  \\\n",
              "0                     0              0               0          0   \n",
              "1                     0              0               0          1   \n",
              "2                     0              0               1          0   \n",
              "3                     1              0               0          0   \n",
              "4                     1              0               0          1   \n",
              "...                 ...            ...             ...        ...   \n",
              "4648                  0              0               0          0   \n",
              "4649                  1              0               0          1   \n",
              "4650                  1              0               1          0   \n",
              "4651                  0              0               0          0   \n",
              "4652                  0              0               0          0   \n",
              "\n",
              "      Gender_Male  EverBenched_Yes  \n",
              "0               1                0  \n",
              "1               0                0  \n",
              "2               0                0  \n",
              "3               1                0  \n",
              "4               1                1  \n",
              "...           ...              ...  \n",
              "4648            0                0  \n",
              "4649            1                0  \n",
              "4650            1                0  \n",
              "4651            1                1  \n",
              "4652            1                1  \n",
              "\n",
              "[4653 rows x 11 columns]"
            ]
          },
          "execution_count": 40,
          "metadata": {},
          "output_type": "execute_result"
        }
      ]
    },
    {
      "cell_type": "markdown",
      "metadata": {
        "id": "f7467d3e"
      },
      "source": [
        "### Feature Scaling"
      ],
      "id": "f7467d3e"
    },
    {
      "cell_type": "code",
      "metadata": {
        "id": "cbc02f40",
        "outputId": "0e94bec8-3a4b-41da-a0fd-8c1293f2edc1"
      },
      "source": [
        "scaler = StandardScaler()\n",
        "scaler.fit(df.drop('LeaveOrNot',axis = 1))"
      ],
      "id": "cbc02f40",
      "execution_count": null,
      "outputs": [
        {
          "data": {
            "text/plain": [
              "StandardScaler()"
            ]
          },
          "execution_count": 41,
          "metadata": {},
          "output_type": "execute_result"
        }
      ]
    },
    {
      "cell_type": "code",
      "metadata": {
        "id": "9822b4cf",
        "outputId": "1cf9734e-4e79-4709-981e-be7604d7e22f"
      },
      "source": [
        "scaled_features = scaler.transform(df.drop('LeaveOrNot',axis = 1))\n",
        "df_feat = pd.DataFrame(scaled_features,columns = ['JoiningYear', 'PaymentTier', 'Age', 'ExperienceInCurrentDomain',\n",
        "        'Education_Masters', 'Education_PHD', 'City_New Delhi',\n",
        "       'City_Pune', 'Gender_Male', 'EverBenched_Yes'])\n",
        "df_feat.head()"
      ],
      "id": "9822b4cf",
      "execution_count": null,
      "outputs": [
        {
          "data": {
            "text/html": [
              "<div>\n",
              "<style scoped>\n",
              "    .dataframe tbody tr th:only-of-type {\n",
              "        vertical-align: middle;\n",
              "    }\n",
              "\n",
              "    .dataframe tbody tr th {\n",
              "        vertical-align: top;\n",
              "    }\n",
              "\n",
              "    .dataframe thead th {\n",
              "        text-align: right;\n",
              "    }\n",
              "</style>\n",
              "<table border=\"1\" class=\"dataframe\">\n",
              "  <thead>\n",
              "    <tr style=\"text-align: right;\">\n",
              "      <th></th>\n",
              "      <th>JoiningYear</th>\n",
              "      <th>PaymentTier</th>\n",
              "      <th>Age</th>\n",
              "      <th>ExperienceInCurrentDomain</th>\n",
              "      <th>Education_Masters</th>\n",
              "      <th>Education_PHD</th>\n",
              "      <th>City_New Delhi</th>\n",
              "      <th>City_Pune</th>\n",
              "      <th>Gender_Male</th>\n",
              "      <th>EverBenched_Yes</th>\n",
              "    </tr>\n",
              "  </thead>\n",
              "  <tbody>\n",
              "    <tr>\n",
              "      <th>0</th>\n",
              "      <td>1.039638</td>\n",
              "      <td>0.537503</td>\n",
              "      <td>0.954645</td>\n",
              "      <td>-1.864901</td>\n",
              "      <td>-0.480575</td>\n",
              "      <td>-0.200022</td>\n",
              "      <td>-0.575282</td>\n",
              "      <td>-0.612041</td>\n",
              "      <td>0.821551</td>\n",
              "      <td>-0.338365</td>\n",
              "    </tr>\n",
              "    <tr>\n",
              "      <th>1</th>\n",
              "      <td>-1.107233</td>\n",
              "      <td>-3.025177</td>\n",
              "      <td>-0.288732</td>\n",
              "      <td>0.060554</td>\n",
              "      <td>-0.480575</td>\n",
              "      <td>-0.200022</td>\n",
              "      <td>-0.575282</td>\n",
              "      <td>1.633878</td>\n",
              "      <td>-1.217210</td>\n",
              "      <td>-0.338365</td>\n",
              "    </tr>\n",
              "    <tr>\n",
              "      <th>2</th>\n",
              "      <td>-0.570515</td>\n",
              "      <td>0.537503</td>\n",
              "      <td>1.783563</td>\n",
              "      <td>-0.581264</td>\n",
              "      <td>-0.480575</td>\n",
              "      <td>-0.200022</td>\n",
              "      <td>1.738277</td>\n",
              "      <td>-0.612041</td>\n",
              "      <td>-1.217210</td>\n",
              "      <td>-0.338365</td>\n",
              "    </tr>\n",
              "    <tr>\n",
              "      <th>3</th>\n",
              "      <td>0.502921</td>\n",
              "      <td>0.537503</td>\n",
              "      <td>-0.495961</td>\n",
              "      <td>1.344191</td>\n",
              "      <td>2.080840</td>\n",
              "      <td>-0.200022</td>\n",
              "      <td>-0.575282</td>\n",
              "      <td>-0.612041</td>\n",
              "      <td>0.821551</td>\n",
              "      <td>-0.338365</td>\n",
              "    </tr>\n",
              "    <tr>\n",
              "      <th>4</th>\n",
              "      <td>1.039638</td>\n",
              "      <td>0.537503</td>\n",
              "      <td>-1.117650</td>\n",
              "      <td>-0.581264</td>\n",
              "      <td>2.080840</td>\n",
              "      <td>-0.200022</td>\n",
              "      <td>-0.575282</td>\n",
              "      <td>1.633878</td>\n",
              "      <td>0.821551</td>\n",
              "      <td>2.955387</td>\n",
              "    </tr>\n",
              "  </tbody>\n",
              "</table>\n",
              "</div>"
            ],
            "text/plain": [
              "   JoiningYear  PaymentTier       Age  ExperienceInCurrentDomain  \\\n",
              "0     1.039638     0.537503  0.954645                  -1.864901   \n",
              "1    -1.107233    -3.025177 -0.288732                   0.060554   \n",
              "2    -0.570515     0.537503  1.783563                  -0.581264   \n",
              "3     0.502921     0.537503 -0.495961                   1.344191   \n",
              "4     1.039638     0.537503 -1.117650                  -0.581264   \n",
              "\n",
              "   Education_Masters  Education_PHD  City_New Delhi  City_Pune  Gender_Male  \\\n",
              "0          -0.480575      -0.200022       -0.575282  -0.612041     0.821551   \n",
              "1          -0.480575      -0.200022       -0.575282   1.633878    -1.217210   \n",
              "2          -0.480575      -0.200022        1.738277  -0.612041    -1.217210   \n",
              "3           2.080840      -0.200022       -0.575282  -0.612041     0.821551   \n",
              "4           2.080840      -0.200022       -0.575282   1.633878     0.821551   \n",
              "\n",
              "   EverBenched_Yes  \n",
              "0        -0.338365  \n",
              "1        -0.338365  \n",
              "2        -0.338365  \n",
              "3        -0.338365  \n",
              "4         2.955387  "
            ]
          },
          "execution_count": 42,
          "metadata": {},
          "output_type": "execute_result"
        }
      ]
    },
    {
      "cell_type": "markdown",
      "metadata": {
        "id": "39848f62"
      },
      "source": [
        "## Feature Selection"
      ],
      "id": "39848f62"
    },
    {
      "cell_type": "code",
      "metadata": {
        "id": "e1b9f7fd"
      },
      "source": [
        "X = df_feat\n",
        "y = df['LeaveOrNot']\n",
        "X_train, X_test, y_train, y_test = train_test_split(X, y, test_size=0.3, random_state=101)\n",
        " "
      ],
      "id": "e1b9f7fd",
      "execution_count": null,
      "outputs": []
    },
    {
      "cell_type": "markdown",
      "metadata": {
        "id": "b8de0f8a"
      },
      "source": [
        "## Prediction of Employee LeavingOrNot using KNN"
      ],
      "id": "b8de0f8a"
    },
    {
      "cell_type": "code",
      "metadata": {
        "id": "5f6c7d0e",
        "outputId": "824a16d7-6abf-455b-ba68-dbc02dc6cf9c"
      },
      "source": [
        "knn = KNeighborsClassifier(n_neighbors = 12)\n",
        "knn.fit(X_train,y_train)"
      ],
      "id": "5f6c7d0e",
      "execution_count": null,
      "outputs": [
        {
          "data": {
            "text/plain": [
              "KNeighborsClassifier(n_neighbors=12)"
            ]
          },
          "execution_count": 44,
          "metadata": {},
          "output_type": "execute_result"
        }
      ]
    },
    {
      "cell_type": "code",
      "metadata": {
        "id": "89c900ff",
        "outputId": "a277f94c-98d6-4414-ae51-b633b717c61f"
      },
      "source": [
        "pred = knn.predict(X_test)\n",
        "pred"
      ],
      "id": "89c900ff",
      "execution_count": null,
      "outputs": [
        {
          "data": {
            "text/plain": [
              "array([0, 0, 0, ..., 0, 0, 1], dtype=int64)"
            ]
          },
          "execution_count": 45,
          "metadata": {},
          "output_type": "execute_result"
        }
      ]
    },
    {
      "cell_type": "code",
      "metadata": {
        "id": "8dcb21ca",
        "outputId": "d4c612e5-3bef-40ad-adc4-a67f7e49534d"
      },
      "source": [
        "print(confusion_matrix(y_test,pred))"
      ],
      "id": "8dcb21ca",
      "execution_count": null,
      "outputs": [
        {
          "name": "stdout",
          "output_type": "stream",
          "text": [
            "[[874  52]\n",
            " [217 253]]\n"
          ]
        }
      ]
    },
    {
      "cell_type": "code",
      "metadata": {
        "id": "d35c4322",
        "outputId": "2c36776f-99cd-49e8-8116-68eb3cd48701"
      },
      "source": [
        "print(classification_report(y_test,pred))"
      ],
      "id": "d35c4322",
      "execution_count": null,
      "outputs": [
        {
          "name": "stdout",
          "output_type": "stream",
          "text": [
            "              precision    recall  f1-score   support\n",
            "\n",
            "           0       0.80      0.94      0.87       926\n",
            "           1       0.83      0.54      0.65       470\n",
            "\n",
            "    accuracy                           0.81      1396\n",
            "   macro avg       0.82      0.74      0.76      1396\n",
            "weighted avg       0.81      0.81      0.79      1396\n",
            "\n"
          ]
        }
      ]
    },
    {
      "cell_type": "code",
      "metadata": {
        "id": "8d8bb058"
      },
      "source": [
        "error_rate= []\n",
        "for i in range(1,40):\n",
        "    knn = KNeighborsClassifier(n_neighbors = i)\n",
        "    knn.fit(X_train,y_train)\n",
        "    pred_i = knn.predict(X_test)\n",
        "    error_rate.append(np.mean(pred_i != y_test))"
      ],
      "id": "8d8bb058",
      "execution_count": null,
      "outputs": []
    },
    {
      "cell_type": "code",
      "metadata": {
        "id": "9185f494",
        "outputId": "f503c71c-7101-4199-f7dc-500a08d1ff9e"
      },
      "source": [
        "plt.figure(figsize = (10,6))\n",
        "plt.plot(range(1,40),error_rate,color = 'blue',linestyle = '--',marker = 'o',markerfacecolor='red',markersize = 10)\n",
        "plt.title('Error Rate vs K')\n",
        "plt.xlabel('K')\n",
        "plt.ylabel('Error Rate')"
      ],
      "id": "9185f494",
      "execution_count": null,
      "outputs": [
        {
          "data": {
            "text/plain": [
              "Text(0, 0.5, 'Error Rate')"
            ]
          },
          "execution_count": 49,
          "metadata": {},
          "output_type": "execute_result"
        },
        {
          "data": {
            "image/png": "[encoded data removed]",
            "text/plain": [
              "<Figure size 720x432 with 1 Axes>"
            ]
          },
          "metadata": {
            "needs_background": "light"
          },
          "output_type": "display_data"
        }
      ]
    },
    {
      "cell_type": "code",
      "metadata": {
        "id": "3bcda3de",
        "outputId": "d7a7b2f8-99b0-4b59-aa1d-580d1fb3a753"
      },
      "source": [
        "print(metrics.accuracy_score(y_test, pred))"
      ],
      "id": "3bcda3de",
      "execution_count": null,
      "outputs": [
        {
          "name": "stdout",
          "output_type": "stream",
          "text": [
            "0.8073065902578797\n"
          ]
        }
      ]
    },
    {
      "cell_type": "markdown",
      "metadata": {
        "id": "c0104845"
      },
      "source": [
        "## prediction of Employee Leaving Or Not using randomforest classifier"
      ],
      "id": "c0104845"
    },
    {
      "cell_type": "code",
      "metadata": {
        "id": "cf5fe826",
        "outputId": "92df7094-e44f-43c8-bc4d-63324b11503a"
      },
      "source": [
        "forest= RandomForestClassifier(n_estimators =10, random_state = 0)\n",
        "forest.fit(X_train,y_train)  \n",
        "y_pred = forest.predict(X_test)\n",
        "forest.score(X_test,y_test)"
      ],
      "id": "cf5fe826",
      "execution_count": null,
      "outputs": [
        {
          "data": {
            "text/plain": [
              "0.8087392550143266"
            ]
          },
          "execution_count": 52,
          "metadata": {},
          "output_type": "execute_result"
        }
      ]
    },
    {
      "cell_type": "markdown",
      "metadata": {
        "id": "2a380e63"
      },
      "source": [
        "### Prediction of Employee LeavingOrNot using Logistic regression"
      ],
      "id": "2a380e63"
    },
    {
      "cell_type": "code",
      "metadata": {
        "id": "8faca10a",
        "outputId": "821a930b-9d23-44fc-c9b6-bc76999db9a7"
      },
      "source": [
        "logmodel = LogisticRegression()\n",
        "logmodel.fit(X_train,y_train)"
      ],
      "id": "8faca10a",
      "execution_count": null,
      "outputs": [
        {
          "data": {
            "text/plain": [
              "LogisticRegression()"
            ]
          },
          "execution_count": 53,
          "metadata": {},
          "output_type": "execute_result"
        }
      ]
    },
    {
      "cell_type": "code",
      "metadata": {
        "id": "577365a4"
      },
      "source": [
        "pred = logmodel.predict(X_test)"
      ],
      "id": "577365a4",
      "execution_count": null,
      "outputs": []
    },
    {
      "cell_type": "code",
      "metadata": {
        "id": "457f5c6c",
        "outputId": "d118bace-1c40-4735-eab3-fe0be0e3e9a3"
      },
      "source": [
        "print(classification_report(y_test,pred))\n",
        "print(confusion_matrix(y_test,pred))"
      ],
      "id": "457f5c6c",
      "execution_count": null,
      "outputs": [
        {
          "name": "stdout",
          "output_type": "stream",
          "text": [
            "              precision    recall  f1-score   support\n",
            "\n",
            "           0       0.76      0.90      0.82       926\n",
            "           1       0.69      0.44      0.54       470\n",
            "\n",
            "    accuracy                           0.74      1396\n",
            "   macro avg       0.73      0.67      0.68      1396\n",
            "weighted avg       0.74      0.74      0.73      1396\n",
            "\n",
            "[[834  92]\n",
            " [264 206]]\n"
          ]
        }
      ]
    },
    {
      "cell_type": "code",
      "metadata": {
        "id": "8f6dd1e1",
        "outputId": "6b27fc0f-6f06-4144-e5bb-9ab0795e2422"
      },
      "source": [
        "logmodel.score(X_test,y_test)"
      ],
      "id": "8f6dd1e1",
      "execution_count": null,
      "outputs": [
        {
          "data": {
            "text/plain": [
              "0.7449856733524355"
            ]
          },
          "execution_count": 56,
          "metadata": {},
          "output_type": "execute_result"
        }
      ]
    },
    {
      "cell_type": "markdown",
      "metadata": {
        "id": "a8dc76aa"
      },
      "source": [
        "## using support vector classifier"
      ],
      "id": "a8dc76aa"
    },
    {
      "cell_type": "code",
      "metadata": {
        "id": "3b6c76b7"
      },
      "source": [
        "from sklearn.svm import SVC\n",
        "svc = SVC()\n",
        "svc.fit(X_train, y_train)\n",
        "y_pred = svc.predict(X_test)"
      ],
      "id": "3b6c76b7",
      "execution_count": null,
      "outputs": []
    },
    {
      "cell_type": "code",
      "metadata": {
        "id": "6d988f53",
        "outputId": "6fd87e5d-c3c3-4216-b5ae-dcbfd6049ab0"
      },
      "source": [
        "confusion_matrix(y_test, y_pred)"
      ],
      "id": "6d988f53",
      "execution_count": null,
      "outputs": [
        {
          "data": {
            "text/plain": [
              "array([[868,  58],\n",
              "       [209, 261]], dtype=int64)"
            ]
          },
          "execution_count": 58,
          "metadata": {},
          "output_type": "execute_result"
        }
      ]
    },
    {
      "cell_type": "code",
      "metadata": {
        "id": "62f77de6",
        "outputId": "d81b3bb6-35f1-413f-d733-84f77b23f73c"
      },
      "source": [
        "print(classification_report(y_test, y_pred))"
      ],
      "id": "62f77de6",
      "execution_count": null,
      "outputs": [
        {
          "name": "stdout",
          "output_type": "stream",
          "text": [
            "              precision    recall  f1-score   support\n",
            "\n",
            "           0       0.81      0.94      0.87       926\n",
            "           1       0.82      0.56      0.66       470\n",
            "\n",
            "    accuracy                           0.81      1396\n",
            "   macro avg       0.81      0.75      0.76      1396\n",
            "weighted avg       0.81      0.81      0.80      1396\n",
            "\n"
          ]
        }
      ]
    },
    {
      "cell_type": "code",
      "metadata": {
        "id": "7ca98a07",
        "outputId": "8832f8bd-6880-4d08-8b43-de9d0c7bb2e5"
      },
      "source": [
        "print(accuracy_score(y_test, y_pred))"
      ],
      "id": "7ca98a07",
      "execution_count": null,
      "outputs": [
        {
          "name": "stdout",
          "output_type": "stream",
          "text": [
            "0.8087392550143266\n"
          ]
        }
      ]
    },
    {
      "cell_type": "code",
      "metadata": {
        "id": "ae34ff0a"
      },
      "source": [
        "svm_f1 = f1_score(y_test, y_pred)\n",
        "svm_acc = accuracy_score(y_test, y_pred)\n",
        "svm_recall = recall_score(y_test, y_pred)\n",
        "svm_auc = roc_auc_score(y_test, y_pred)"
      ],
      "id": "ae34ff0a",
      "execution_count": null,
      "outputs": []
    },
    {
      "cell_type": "code",
      "metadata": {
        "id": "b68aa67e",
        "outputId": "d8185886-e626-49c9-ff5b-b20f125e6d82"
      },
      "source": [
        "svm_f1"
      ],
      "id": "b68aa67e",
      "execution_count": null,
      "outputs": [
        {
          "data": {
            "text/plain": [
              "0.7404674046740467"
            ]
          },
          "execution_count": 88,
          "metadata": {},
          "output_type": "execute_result"
        }
      ]
    },
    {
      "cell_type": "code",
      "metadata": {
        "id": "10a4d1dd",
        "outputId": "75b4737c-9c65-4f51-9bdf-7e19d005231f"
      },
      "source": [
        "svm_acc"
      ],
      "id": "10a4d1dd",
      "execution_count": null,
      "outputs": [
        {
          "data": {
            "text/plain": [
              "0.8488538681948424"
            ]
          },
          "execution_count": 89,
          "metadata": {},
          "output_type": "execute_result"
        }
      ]
    },
    {
      "cell_type": "markdown",
      "metadata": {
        "id": "00cdf11c"
      },
      "source": [
        "## DecisionTree classifier"
      ],
      "id": "00cdf11c"
    },
    {
      "cell_type": "code",
      "metadata": {
        "id": "1b201651"
      },
      "source": [
        "from sklearn.tree import DecisionTreeClassifier\n",
        "dtc = DecisionTreeClassifier()\n",
        "dtc.fit(X_train, y_train)\n",
        "y_pred = dtc.predict(X_test)"
      ],
      "id": "1b201651",
      "execution_count": null,
      "outputs": []
    },
    {
      "cell_type": "code",
      "metadata": {
        "id": "449eb1c4",
        "outputId": "c2bc701e-a086-4e94-86e4-a6709d4eb463"
      },
      "source": [
        "confusion_matrix(y_test, y_pred)"
      ],
      "id": "449eb1c4",
      "execution_count": null,
      "outputs": [
        {
          "data": {
            "text/plain": [
              "array([[795, 131],\n",
              "       [170, 300]], dtype=int64)"
            ]
          },
          "execution_count": 62,
          "metadata": {},
          "output_type": "execute_result"
        }
      ]
    },
    {
      "cell_type": "code",
      "metadata": {
        "id": "242dbe95",
        "outputId": "847537b9-6123-4506-f010-b48c08389c81"
      },
      "source": [
        "print(classification_report(y_test, y_pred))"
      ],
      "id": "242dbe95",
      "execution_count": null,
      "outputs": [
        {
          "name": "stdout",
          "output_type": "stream",
          "text": [
            "              precision    recall  f1-score   support\n",
            "\n",
            "           0       0.82      0.86      0.84       926\n",
            "           1       0.70      0.64      0.67       470\n",
            "\n",
            "    accuracy                           0.78      1396\n",
            "   macro avg       0.76      0.75      0.75      1396\n",
            "weighted avg       0.78      0.78      0.78      1396\n",
            "\n"
          ]
        }
      ]
    },
    {
      "cell_type": "code",
      "metadata": {
        "id": "477ad2a7",
        "outputId": "d8c56c45-505d-4b05-894c-0a152553c07f"
      },
      "source": [
        "print(accuracy_score(y_test, y_pred))"
      ],
      "id": "477ad2a7",
      "execution_count": null,
      "outputs": [
        {
          "name": "stdout",
          "output_type": "stream",
          "text": [
            "0.7843839541547278\n"
          ]
        }
      ]
    },
    {
      "cell_type": "markdown",
      "metadata": {
        "id": "d2860740"
      },
      "source": [
        "# Hyper parameter Tuning"
      ],
      "id": "d2860740"
    },
    {
      "cell_type": "code",
      "metadata": {
        "id": "5adc95da",
        "outputId": "41136ae6-a998-483d-f744-9ad65f87d503"
      },
      "source": [
        "from sklearn.model_selection import GridSearchCV\n",
        "grid_params = {\n",
        "    'criterion' : ['gini', 'entropy'],\n",
        "    'max_depth' : [3, 5, 7, 10],\n",
        "    'min_samples_split' : range(2, 10, 1),\n",
        "    'min_samples_leaf' : range(2, 10, 1)\n",
        "}\n",
        "\n",
        "grid_search = GridSearchCV(dtc, grid_params, cv = 5, n_jobs = -1, verbose = 1)\n",
        "grid_search.fit(X_train, y_train)"
      ],
      "id": "5adc95da",
      "execution_count": null,
      "outputs": [
        {
          "name": "stdout",
          "output_type": "stream",
          "text": [
            "Fitting 5 folds for each of 512 candidates, totalling 2560 fits\n"
          ]
        },
        {
          "data": {
            "text/plain": [
              "GridSearchCV(cv=5, estimator=DecisionTreeClassifier(), n_jobs=-1,\n",
              "             param_grid={'criterion': ['gini', 'entropy'],\n",
              "                         'max_depth': [3, 5, 7, 10],\n",
              "                         'min_samples_leaf': range(2, 10),\n",
              "                         'min_samples_split': range(2, 10)},\n",
              "             verbose=1)"
            ]
          },
          "execution_count": 65,
          "metadata": {},
          "output_type": "execute_result"
        }
      ]
    },
    {
      "cell_type": "code",
      "metadata": {
        "id": "55e9b1f6"
      },
      "source": [
        "dtc = grid_search.best_estimator_\n",
        "y_pred = dtc.predict(X_test) "
      ],
      "id": "55e9b1f6",
      "execution_count": null,
      "outputs": []
    },
    {
      "cell_type": "code",
      "metadata": {
        "id": "41c03f1e",
        "outputId": "aaade0e1-70d1-4c09-8675-0c7a4f7d2517"
      },
      "source": [
        "print(accuracy_score(y_test, y_pred))"
      ],
      "id": "41c03f1e",
      "execution_count": null,
      "outputs": [
        {
          "name": "stdout",
          "output_type": "stream",
          "text": [
            "0.8359598853868195\n"
          ]
        }
      ]
    },
    {
      "cell_type": "code",
      "metadata": {
        "id": "8d5b3309",
        "outputId": "3def6bbf-9d49-48c9-a0dc-75e8b671bfce"
      },
      "source": [
        "# best parameters and best score\n",
        "\n",
        "print(grid_search.best_params_)\n",
        "print(grid_search.best_score_)"
      ],
      "id": "8d5b3309",
      "execution_count": null,
      "outputs": [
        {
          "name": "stdout",
          "output_type": "stream",
          "text": [
            "{'criterion': 'entropy', 'max_depth': 7, 'min_samples_leaf': 3, 'min_samples_split': 7}\n",
            "0.8412649722465673\n"
          ]
        }
      ]
    },
    {
      "cell_type": "markdown",
      "metadata": {
        "id": "cfe15694"
      },
      "source": [
        "# Boosting: ADA boost classifier"
      ],
      "id": "cfe15694"
    },
    {
      "cell_type": "code",
      "metadata": {
        "id": "368f6ec9",
        "outputId": "4e429cf4-4b4f-4db5-a76e-73c5ffd3f73c"
      },
      "source": [
        "from sklearn.ensemble import AdaBoostClassifier\n",
        "\n",
        "ada = AdaBoostClassifier(base_estimator = dtc)\n",
        "\n",
        "parameters = {\n",
        "    'n_estimators' : [50, 70, 90, 120, 180, 200],\n",
        "    'learning_rate' : [0.001, 0.01, 0.1, 1, 10],\n",
        "    'algorithm' : ['SAMME', 'SAMME.R']\n",
        "}\n",
        "\n",
        "grid_search = GridSearchCV(ada, parameters, n_jobs = -1, cv = 10, verbose = 1)\n",
        "grid_search.fit(X_train, y_train)"
      ],
      "id": "368f6ec9",
      "execution_count": null,
      "outputs": [
        {
          "name": "stdout",
          "output_type": "stream",
          "text": [
            "Fitting 10 folds for each of 60 candidates, totalling 600 fits\n"
          ]
        },
        {
          "data": {
            "text/plain": [
              "GridSearchCV(cv=10,\n",
              "             estimator=AdaBoostClassifier(base_estimator=DecisionTreeClassifier(criterion='entropy',\n",
              "                                                                                max_depth=7,\n",
              "                                                                                min_samples_leaf=3,\n",
              "                                                                                min_samples_split=7)),\n",
              "             n_jobs=-1,\n",
              "             param_grid={'algorithm': ['SAMME', 'SAMME.R'],\n",
              "                         'learning_rate': [0.001, 0.01, 0.1, 1, 10],\n",
              "                         'n_estimators': [50, 70, 90, 120, 180, 200]},\n",
              "             verbose=1)"
            ]
          },
          "execution_count": 69,
          "metadata": {},
          "output_type": "execute_result"
        }
      ]
    },
    {
      "cell_type": "code",
      "metadata": {
        "id": "1f4238c8",
        "outputId": "7afa8402-8491-44b4-a1c4-f40cab6570a5"
      },
      "source": [
        "print(grid_search.best_params_)\n",
        "print(grid_search.best_score_)"
      ],
      "id": "1f4238c8",
      "execution_count": null,
      "outputs": [
        {
          "name": "stdout",
          "output_type": "stream",
          "text": [
            "{'algorithm': 'SAMME', 'learning_rate': 0.1, 'n_estimators': 50}\n",
            "0.8547692307692307\n"
          ]
        }
      ]
    },
    {
      "cell_type": "code",
      "metadata": {
        "id": "b566e820",
        "outputId": "bcbfdaae-9675-463a-c9a2-5f33c50594ae"
      },
      "source": [
        "ada = AdaBoostClassifier(base_estimator = dtc, algorithm = 'SAMME.R', learning_rate = 0.001, n_estimators = 200)\n",
        "ada.fit(X_train, y_train)"
      ],
      "id": "b566e820",
      "execution_count": null,
      "outputs": [
        {
          "data": {
            "text/plain": [
              "AdaBoostClassifier(base_estimator=DecisionTreeClassifier(criterion='entropy',\n",
              "                                                         max_depth=7,\n",
              "                                                         min_samples_leaf=3,\n",
              "                                                         min_samples_split=7),\n",
              "                   learning_rate=0.001, n_estimators=200)"
            ]
          },
          "execution_count": 71,
          "metadata": {},
          "output_type": "execute_result"
        }
      ]
    },
    {
      "cell_type": "code",
      "metadata": {
        "id": "53a8cb2f",
        "outputId": "64f9d543-55c5-4a6a-b75a-a23ed7e48e94"
      },
      "source": [
        "confusion_matrix(y_test, y_pred)"
      ],
      "id": "53a8cb2f",
      "execution_count": null,
      "outputs": [
        {
          "data": {
            "text/plain": [
              "array([[873,  53],\n",
              "       [176, 294]], dtype=int64)"
            ]
          },
          "execution_count": 72,
          "metadata": {},
          "output_type": "execute_result"
        }
      ]
    },
    {
      "cell_type": "code",
      "metadata": {
        "id": "caf3e611",
        "outputId": "13b81754-ea1c-4dd9-f916-08ec90d74ee2"
      },
      "source": [
        "print(classification_report(y_test, y_pred))"
      ],
      "id": "caf3e611",
      "execution_count": null,
      "outputs": [
        {
          "name": "stdout",
          "output_type": "stream",
          "text": [
            "              precision    recall  f1-score   support\n",
            "\n",
            "           0       0.83      0.94      0.88       926\n",
            "           1       0.85      0.63      0.72       470\n",
            "\n",
            "    accuracy                           0.84      1396\n",
            "   macro avg       0.84      0.78      0.80      1396\n",
            "weighted avg       0.84      0.84      0.83      1396\n",
            "\n"
          ]
        }
      ]
    },
    {
      "cell_type": "markdown",
      "metadata": {
        "id": "d32a29eb"
      },
      "source": [
        "# Gradient Boosting Classifier"
      ],
      "id": "d32a29eb"
    },
    {
      "cell_type": "code",
      "metadata": {
        "id": "e2b62205",
        "outputId": "8bb25831-2e55-4d87-84e6-1c07758c9203"
      },
      "source": [
        "from sklearn.ensemble import GradientBoostingClassifier\n",
        "\n",
        "gb = GradientBoostingClassifier()\n",
        "\n",
        "parameters = {\n",
        "    'loss': ['deviance', 'exponential'],\n",
        "    'learning_rate': [0.001, 0.1, 1, 10],\n",
        "    'n_estimators': [100, 150, 180, 200]\n",
        "}\n",
        "\n",
        "grid_search = GridSearchCV(gb, parameters, cv = 5, n_jobs = -1, verbose = 1)\n",
        "grid_search.fit(X_train, y_train)"
      ],
      "id": "e2b62205",
      "execution_count": null,
      "outputs": [
        {
          "name": "stdout",
          "output_type": "stream",
          "text": [
            "Fitting 5 folds for each of 32 candidates, totalling 160 fits\n"
          ]
        },
        {
          "data": {
            "text/plain": [
              "GridSearchCV(cv=5, estimator=GradientBoostingClassifier(), n_jobs=-1,\n",
              "             param_grid={'learning_rate': [0.001, 0.1, 1, 10],\n",
              "                         'loss': ['deviance', 'exponential'],\n",
              "                         'n_estimators': [100, 150, 180, 200]},\n",
              "             verbose=1)"
            ]
          },
          "execution_count": 74,
          "metadata": {},
          "output_type": "execute_result"
        }
      ]
    },
    {
      "cell_type": "code",
      "metadata": {
        "id": "e463abe7",
        "outputId": "5cf5a071-bc3c-42ec-a9d4-f4013f5237a5"
      },
      "source": [
        "# best parameter and best score\n",
        "\n",
        "print(grid_search.best_params_)\n",
        "print(grid_search.best_score_)"
      ],
      "id": "e463abe7",
      "execution_count": null,
      "outputs": [
        {
          "name": "stdout",
          "output_type": "stream",
          "text": [
            "{'learning_rate': 0.1, 'loss': 'deviance', 'n_estimators': 200}\n",
            "0.8520049381319914\n"
          ]
        }
      ]
    },
    {
      "cell_type": "code",
      "metadata": {
        "id": "1f8515f6"
      },
      "source": [
        "gb = GradientBoostingClassifier(learning_rate = 0.1, loss = 'deviance', n_estimators = 180)\n",
        "gb.fit(X_train, y_train)\n",
        "y_pred = gb.predict(X_test) "
      ],
      "id": "1f8515f6",
      "execution_count": null,
      "outputs": []
    },
    {
      "cell_type": "code",
      "metadata": {
        "id": "bd6ad96c",
        "outputId": "246a29c4-a066-48a3-e477-7f1f1853c83d"
      },
      "source": [
        "print(accuracy_score(y_test, y_pred))"
      ],
      "id": "bd6ad96c",
      "execution_count": null,
      "outputs": [
        {
          "name": "stdout",
          "output_type": "stream",
          "text": [
            "0.8467048710601719\n"
          ]
        }
      ]
    },
    {
      "cell_type": "markdown",
      "metadata": {
        "id": "5d069e08"
      },
      "source": [
        "## Stochastic Gradient Boosting (SGB)"
      ],
      "id": "5d069e08"
    },
    {
      "cell_type": "code",
      "metadata": {
        "id": "4542b57e"
      },
      "source": [
        "sgbc = GradientBoostingClassifier(learning_rate = 0.1, subsample = 0.9, max_features = 0.75, loss = 'deviance',\n",
        "                                  n_estimators = 100)\n",
        "sgbc.fit(X_train, y_train)\n",
        "y_pred = sgbc.predict(X_test)"
      ],
      "id": "4542b57e",
      "execution_count": null,
      "outputs": []
    },
    {
      "cell_type": "code",
      "metadata": {
        "id": "af0e1664",
        "outputId": "80bdfafc-fc95-4d60-9238-e5495c7280a5"
      },
      "source": [
        "print(accuracy_score(y_test, y_pred))"
      ],
      "id": "af0e1664",
      "execution_count": null,
      "outputs": [
        {
          "name": "stdout",
          "output_type": "stream",
          "text": [
            "0.839541547277937\n"
          ]
        }
      ]
    },
    {
      "cell_type": "markdown",
      "metadata": {
        "id": "aecc5d02"
      },
      "source": [
        "## Cat boost Classifier"
      ],
      "id": "aecc5d02"
    },
    {
      "cell_type": "code",
      "metadata": {
        "scrolled": true,
        "id": "77faa06f",
        "outputId": "8905010d-c308-488a-894d-ed5f6769df5f"
      },
      "source": [
        "from catboost import CatBoostClassifier\n",
        "cat = CatBoostClassifier(iterations = 180, learning_rate = 0.1)\n",
        "cat.fit(X_train, y_train)\n",
        "y_pred = cat.predict(X_test)"
      ],
      "id": "77faa06f",
      "execution_count": null,
      "outputs": [
        {
          "name": "stdout",
          "output_type": "stream",
          "text": [
            "0:\tlearn: 0.6498342\ttotal: 138ms\tremaining: 24.7s\n",
            "1:\tlearn: 0.6184705\ttotal: 139ms\tremaining: 12.4s\n",
            "2:\tlearn: 0.5936824\ttotal: 140ms\tremaining: 8.26s\n",
            "3:\tlearn: 0.5669537\ttotal: 141ms\tremaining: 6.19s\n",
            "4:\tlearn: 0.5426296\ttotal: 141ms\tremaining: 4.95s\n",
            "5:\tlearn: 0.5283035\ttotal: 142ms\tremaining: 4.12s\n",
            "6:\tlearn: 0.5104739\ttotal: 143ms\tremaining: 3.53s\n",
            "7:\tlearn: 0.4942012\ttotal: 144ms\tremaining: 3.09s\n",
            "8:\tlearn: 0.4829274\ttotal: 144ms\tremaining: 2.74s\n",
            "9:\tlearn: 0.4727102\ttotal: 145ms\tremaining: 2.46s\n",
            "10:\tlearn: 0.4613607\ttotal: 146ms\tremaining: 2.24s\n",
            "11:\tlearn: 0.4537629\ttotal: 146ms\tremaining: 2.05s\n",
            "12:\tlearn: 0.4451525\ttotal: 147ms\tremaining: 1.89s\n",
            "13:\tlearn: 0.4385192\ttotal: 148ms\tremaining: 1.75s\n",
            "14:\tlearn: 0.4320629\ttotal: 149ms\tremaining: 1.63s\n",
            "15:\tlearn: 0.4257983\ttotal: 149ms\tremaining: 1.53s\n",
            "16:\tlearn: 0.4212931\ttotal: 150ms\tremaining: 1.44s\n",
            "17:\tlearn: 0.4182314\ttotal: 151ms\tremaining: 1.36s\n",
            "18:\tlearn: 0.4153645\ttotal: 151ms\tremaining: 1.28s\n",
            "19:\tlearn: 0.4116171\ttotal: 152ms\tremaining: 1.22s\n",
            "20:\tlearn: 0.4074593\ttotal: 153ms\tremaining: 1.16s\n",
            "21:\tlearn: 0.4050137\ttotal: 154ms\tremaining: 1.1s\n",
            "22:\tlearn: 0.4030202\ttotal: 155ms\tremaining: 1.05s\n",
            "23:\tlearn: 0.3996523\ttotal: 155ms\tremaining: 1.01s\n",
            "24:\tlearn: 0.3970537\ttotal: 156ms\tremaining: 966ms\n",
            "25:\tlearn: 0.3951596\ttotal: 157ms\tremaining: 927ms\n",
            "26:\tlearn: 0.3920532\ttotal: 157ms\tremaining: 891ms\n",
            "27:\tlearn: 0.3901176\ttotal: 158ms\tremaining: 857ms\n",
            "28:\tlearn: 0.3889941\ttotal: 159ms\tremaining: 826ms\n",
            "29:\tlearn: 0.3867927\ttotal: 159ms\tremaining: 796ms\n",
            "30:\tlearn: 0.3854394\ttotal: 160ms\tremaining: 769ms\n",
            "31:\tlearn: 0.3836133\ttotal: 161ms\tremaining: 743ms\n",
            "32:\tlearn: 0.3830686\ttotal: 161ms\tremaining: 718ms\n",
            "33:\tlearn: 0.3821846\ttotal: 162ms\tremaining: 695ms\n",
            "34:\tlearn: 0.3805809\ttotal: 162ms\tremaining: 673ms\n",
            "35:\tlearn: 0.3793022\ttotal: 163ms\tremaining: 653ms\n",
            "36:\tlearn: 0.3783915\ttotal: 164ms\tremaining: 635ms\n",
            "37:\tlearn: 0.3774361\ttotal: 165ms\tremaining: 616ms\n",
            "38:\tlearn: 0.3758408\ttotal: 166ms\tremaining: 599ms\n",
            "39:\tlearn: 0.3742661\ttotal: 166ms\tremaining: 582ms\n",
            "40:\tlearn: 0.3733940\ttotal: 167ms\tremaining: 567ms\n",
            "41:\tlearn: 0.3723760\ttotal: 168ms\tremaining: 551ms\n",
            "42:\tlearn: 0.3708214\ttotal: 169ms\tremaining: 537ms\n",
            "43:\tlearn: 0.3696886\ttotal: 169ms\tremaining: 523ms\n",
            "44:\tlearn: 0.3682961\ttotal: 170ms\tremaining: 510ms\n",
            "45:\tlearn: 0.3676545\ttotal: 171ms\tremaining: 497ms\n",
            "46:\tlearn: 0.3668613\ttotal: 171ms\tremaining: 485ms\n",
            "47:\tlearn: 0.3659490\ttotal: 172ms\tremaining: 473ms\n",
            "48:\tlearn: 0.3647147\ttotal: 173ms\tremaining: 462ms\n",
            "49:\tlearn: 0.3637361\ttotal: 174ms\tremaining: 451ms\n",
            "50:\tlearn: 0.3632768\ttotal: 174ms\tremaining: 441ms\n",
            "51:\tlearn: 0.3625888\ttotal: 175ms\tremaining: 431ms\n",
            "52:\tlearn: 0.3620014\ttotal: 176ms\tremaining: 421ms\n",
            "53:\tlearn: 0.3612996\ttotal: 176ms\tremaining: 412ms\n",
            "54:\tlearn: 0.3607436\ttotal: 177ms\tremaining: 403ms\n",
            "55:\tlearn: 0.3599144\ttotal: 178ms\tremaining: 394ms\n",
            "56:\tlearn: 0.3593635\ttotal: 179ms\tremaining: 385ms\n",
            "57:\tlearn: 0.3587765\ttotal: 179ms\tremaining: 377ms\n",
            "58:\tlearn: 0.3578151\ttotal: 180ms\tremaining: 369ms\n",
            "59:\tlearn: 0.3563784\ttotal: 181ms\tremaining: 361ms\n",
            "60:\tlearn: 0.3549160\ttotal: 181ms\tremaining: 354ms\n",
            "61:\tlearn: 0.3542263\ttotal: 182ms\tremaining: 347ms\n",
            "62:\tlearn: 0.3538715\ttotal: 183ms\tremaining: 340ms\n",
            "63:\tlearn: 0.3529501\ttotal: 184ms\tremaining: 333ms\n",
            "64:\tlearn: 0.3521042\ttotal: 184ms\tremaining: 326ms\n",
            "65:\tlearn: 0.3512402\ttotal: 185ms\tremaining: 320ms\n",
            "66:\tlearn: 0.3507782\ttotal: 186ms\tremaining: 313ms\n",
            "67:\tlearn: 0.3503459\ttotal: 186ms\tremaining: 307ms\n",
            "68:\tlearn: 0.3498409\ttotal: 187ms\tremaining: 301ms\n",
            "69:\tlearn: 0.3487271\ttotal: 188ms\tremaining: 295ms\n",
            "70:\tlearn: 0.3479783\ttotal: 189ms\tremaining: 289ms\n",
            "71:\tlearn: 0.3472138\ttotal: 189ms\tremaining: 284ms\n",
            "72:\tlearn: 0.3466372\ttotal: 190ms\tremaining: 278ms\n",
            "73:\tlearn: 0.3462720\ttotal: 191ms\tremaining: 273ms\n",
            "74:\tlearn: 0.3453322\ttotal: 191ms\tremaining: 268ms\n",
            "75:\tlearn: 0.3449520\ttotal: 192ms\tremaining: 263ms\n",
            "76:\tlearn: 0.3444634\ttotal: 193ms\tremaining: 258ms\n",
            "77:\tlearn: 0.3438795\ttotal: 194ms\tremaining: 253ms\n",
            "78:\tlearn: 0.3437050\ttotal: 194ms\tremaining: 248ms\n",
            "79:\tlearn: 0.3434263\ttotal: 195ms\tremaining: 244ms\n",
            "80:\tlearn: 0.3429553\ttotal: 196ms\tremaining: 239ms\n",
            "81:\tlearn: 0.3424782\ttotal: 196ms\tremaining: 235ms\n",
            "82:\tlearn: 0.3417980\ttotal: 197ms\tremaining: 230ms\n",
            "83:\tlearn: 0.3412434\ttotal: 198ms\tremaining: 226ms\n",
            "84:\tlearn: 0.3408873\ttotal: 199ms\tremaining: 222ms\n",
            "85:\tlearn: 0.3405480\ttotal: 199ms\tremaining: 218ms\n",
            "86:\tlearn: 0.3398463\ttotal: 200ms\tremaining: 214ms\n",
            "87:\tlearn: 0.3393860\ttotal: 201ms\tremaining: 210ms\n",
            "88:\tlearn: 0.3390132\ttotal: 201ms\tremaining: 206ms\n",
            "89:\tlearn: 0.3382711\ttotal: 202ms\tremaining: 202ms\n",
            "90:\tlearn: 0.3375568\ttotal: 203ms\tremaining: 198ms\n",
            "91:\tlearn: 0.3370653\ttotal: 204ms\tremaining: 195ms\n",
            "92:\tlearn: 0.3366676\ttotal: 204ms\tremaining: 191ms\n",
            "93:\tlearn: 0.3361066\ttotal: 205ms\tremaining: 188ms\n",
            "94:\tlearn: 0.3356305\ttotal: 206ms\tremaining: 184ms\n",
            "95:\tlearn: 0.3350698\ttotal: 207ms\tremaining: 181ms\n",
            "96:\tlearn: 0.3346477\ttotal: 207ms\tremaining: 178ms\n",
            "97:\tlearn: 0.3342940\ttotal: 208ms\tremaining: 174ms\n",
            "98:\tlearn: 0.3338524\ttotal: 209ms\tremaining: 171ms\n",
            "99:\tlearn: 0.3334995\ttotal: 210ms\tremaining: 168ms\n",
            "100:\tlearn: 0.3330307\ttotal: 211ms\tremaining: 165ms\n",
            "101:\tlearn: 0.3327540\ttotal: 211ms\tremaining: 162ms\n",
            "102:\tlearn: 0.3323850\ttotal: 212ms\tremaining: 158ms\n",
            "103:\tlearn: 0.3320137\ttotal: 213ms\tremaining: 155ms\n",
            "104:\tlearn: 0.3317783\ttotal: 213ms\tremaining: 152ms\n",
            "105:\tlearn: 0.3312605\ttotal: 214ms\tremaining: 150ms\n",
            "106:\tlearn: 0.3310272\ttotal: 215ms\tremaining: 147ms\n",
            "107:\tlearn: 0.3302442\ttotal: 216ms\tremaining: 144ms\n",
            "108:\tlearn: 0.3299375\ttotal: 216ms\tremaining: 141ms\n",
            "109:\tlearn: 0.3292893\ttotal: 217ms\tremaining: 138ms\n",
            "110:\tlearn: 0.3289983\ttotal: 218ms\tremaining: 135ms\n",
            "111:\tlearn: 0.3284726\ttotal: 219ms\tremaining: 133ms\n",
            "112:\tlearn: 0.3281281\ttotal: 219ms\tremaining: 130ms\n",
            "113:\tlearn: 0.3281195\ttotal: 220ms\tremaining: 127ms\n",
            "114:\tlearn: 0.3274855\ttotal: 221ms\tremaining: 125ms\n",
            "115:\tlearn: 0.3269861\ttotal: 221ms\tremaining: 122ms\n",
            "116:\tlearn: 0.3263140\ttotal: 222ms\tremaining: 120ms\n",
            "117:\tlearn: 0.3260203\ttotal: 223ms\tremaining: 117ms\n",
            "118:\tlearn: 0.3256128\ttotal: 223ms\tremaining: 115ms\n",
            "119:\tlearn: 0.3254074\ttotal: 224ms\tremaining: 112ms\n",
            "120:\tlearn: 0.3253981\ttotal: 225ms\tremaining: 110ms\n",
            "121:\tlearn: 0.3249009\ttotal: 225ms\tremaining: 107ms\n",
            "122:\tlearn: 0.3246317\ttotal: 226ms\tremaining: 105ms\n",
            "123:\tlearn: 0.3246228\ttotal: 227ms\tremaining: 102ms\n",
            "124:\tlearn: 0.3241925\ttotal: 228ms\tremaining: 100ms\n",
            "125:\tlearn: 0.3240138\ttotal: 228ms\tremaining: 97.9ms\n",
            "126:\tlearn: 0.3237619\ttotal: 229ms\tremaining: 95.6ms\n",
            "127:\tlearn: 0.3233495\ttotal: 230ms\tremaining: 93.3ms\n",
            "128:\tlearn: 0.3232222\ttotal: 230ms\tremaining: 91.1ms\n",
            "129:\tlearn: 0.3229200\ttotal: 231ms\tremaining: 88.9ms\n",
            "130:\tlearn: 0.3229116\ttotal: 232ms\tremaining: 86.7ms\n",
            "131:\tlearn: 0.3229026\ttotal: 232ms\tremaining: 84.4ms\n",
            "132:\tlearn: 0.3225031\ttotal: 233ms\tremaining: 82.3ms\n",
            "133:\tlearn: 0.3224349\ttotal: 234ms\tremaining: 80.2ms\n",
            "134:\tlearn: 0.3221734\ttotal: 234ms\tremaining: 78.1ms\n",
            "135:\tlearn: 0.3219698\ttotal: 235ms\tremaining: 76ms\n",
            "136:\tlearn: 0.3217454\ttotal: 236ms\tremaining: 74ms\n",
            "137:\tlearn: 0.3217375\ttotal: 236ms\tremaining: 71.9ms\n",
            "138:\tlearn: 0.3215120\ttotal: 237ms\tremaining: 69.9ms\n",
            "139:\tlearn: 0.3212242\ttotal: 238ms\tremaining: 67.9ms\n",
            "140:\tlearn: 0.3212166\ttotal: 238ms\tremaining: 65.9ms\n",
            "141:\tlearn: 0.3212091\ttotal: 239ms\tremaining: 63.9ms\n",
            "142:\tlearn: 0.3212022\ttotal: 239ms\tremaining: 61.9ms\n",
            "143:\tlearn: 0.3209800\ttotal: 240ms\tremaining: 60ms\n",
            "144:\tlearn: 0.3206489\ttotal: 241ms\tremaining: 58.1ms\n",
            "145:\tlearn: 0.3203967\ttotal: 241ms\tremaining: 56.2ms\n",
            "146:\tlearn: 0.3202057\ttotal: 242ms\tremaining: 54.4ms\n",
            "147:\tlearn: 0.3199882\ttotal: 243ms\tremaining: 52.5ms\n",
            "148:\tlearn: 0.3197387\ttotal: 244ms\tremaining: 50.7ms\n",
            "149:\tlearn: 0.3194473\ttotal: 244ms\tremaining: 48.9ms\n",
            "150:\tlearn: 0.3191836\ttotal: 245ms\tremaining: 47.1ms\n",
            "151:\tlearn: 0.3189894\ttotal: 246ms\tremaining: 45.3ms\n",
            "152:\tlearn: 0.3189828\ttotal: 246ms\tremaining: 43.5ms\n",
            "153:\tlearn: 0.3187104\ttotal: 247ms\tremaining: 41.7ms\n",
            "154:\tlearn: 0.3187042\ttotal: 248ms\tremaining: 39.9ms\n",
            "155:\tlearn: 0.3186982\ttotal: 248ms\tremaining: 38.2ms\n",
            "156:\tlearn: 0.3185937\ttotal: 249ms\tremaining: 36.4ms\n",
            "157:\tlearn: 0.3181123\ttotal: 249ms\tremaining: 34.7ms\n",
            "158:\tlearn: 0.3181061\ttotal: 250ms\tremaining: 33ms\n",
            "159:\tlearn: 0.3179605\ttotal: 251ms\tremaining: 31.3ms\n",
            "160:\tlearn: 0.3179544\ttotal: 251ms\tremaining: 29.6ms\n",
            "161:\tlearn: 0.3177582\ttotal: 252ms\tremaining: 28ms\n",
            "162:\tlearn: 0.3177524\ttotal: 252ms\tremaining: 26.3ms\n",
            "163:\tlearn: 0.3177472\ttotal: 253ms\tremaining: 24.7ms\n",
            "164:\tlearn: 0.3175225\ttotal: 254ms\tremaining: 23.1ms\n",
            "165:\tlearn: 0.3172335\ttotal: 255ms\tremaining: 21.5ms\n",
            "166:\tlearn: 0.3170074\ttotal: 255ms\tremaining: 19.9ms\n",
            "167:\tlearn: 0.3167479\ttotal: 256ms\tremaining: 18.3ms\n",
            "168:\tlearn: 0.3164294\ttotal: 257ms\tremaining: 16.7ms\n",
            "169:\tlearn: 0.3164240\ttotal: 257ms\tremaining: 15.1ms\n",
            "170:\tlearn: 0.3160520\ttotal: 258ms\tremaining: 13.6ms\n",
            "171:\tlearn: 0.3159290\ttotal: 259ms\tremaining: 12ms\n",
            "172:\tlearn: 0.3156417\ttotal: 260ms\tremaining: 10.5ms\n",
            "173:\tlearn: 0.3154154\ttotal: 260ms\tremaining: 8.98ms\n",
            "174:\tlearn: 0.3153115\ttotal: 261ms\tremaining: 7.46ms\n",
            "175:\tlearn: 0.3151085\ttotal: 262ms\tremaining: 5.95ms\n",
            "176:\tlearn: 0.3148803\ttotal: 263ms\tremaining: 4.45ms\n",
            "177:\tlearn: 0.3148752\ttotal: 263ms\tremaining: 2.96ms\n",
            "178:\tlearn: 0.3148700\ttotal: 264ms\tremaining: 1.47ms\n",
            "179:\tlearn: 0.3146850\ttotal: 265ms\tremaining: 0us\n"
          ]
        }
      ]
    },
    {
      "cell_type": "code",
      "metadata": {
        "id": "731a58ca",
        "outputId": "6911db05-8ee8-4bab-ddb9-29e19a4e5b9d"
      },
      "source": [
        "print(accuracy_score(y_test, y_pred))"
      ],
      "id": "731a58ca",
      "execution_count": null,
      "outputs": [
        {
          "name": "stdout",
          "output_type": "stream",
          "text": [
            "0.8488538681948424\n"
          ]
        }
      ]
    },
    {
      "cell_type": "markdown",
      "metadata": {
        "id": "e1c2c287"
      },
      "source": [
        "# XGB Classifier"
      ],
      "id": "e1c2c287"
    },
    {
      "cell_type": "code",
      "metadata": {
        "id": "abbdf11c",
        "outputId": "adf05356-fb56-47c0-f84f-f66d63ab2fed"
      },
      "source": [
        "print(accuracy_score(y_test, y_pred))"
      ],
      "id": "abbdf11c",
      "execution_count": null,
      "outputs": [
        {
          "name": "stdout",
          "output_type": "stream",
          "text": [
            "0.8488538681948424\n"
          ]
        }
      ]
    },
    {
      "cell_type": "markdown",
      "metadata": {
        "id": "f86a4b74"
      },
      "source": [
        "## Feature Importance"
      ],
      "id": "f86a4b74"
    },
    {
      "cell_type": "code",
      "metadata": {
        "id": "2f148007",
        "outputId": "3d192558-bea0-4b36-aa4e-fa527b41652e"
      },
      "source": [
        "feature = pd.Series(forest.feature_importances_, index = X_train.columns).sort_values(ascending = False)\n",
        "print(feature)"
      ],
      "id": "2f148007",
      "execution_count": null,
      "outputs": [
        {
          "name": "stdout",
          "output_type": "stream",
          "text": [
            "JoiningYear                  0.339862\n",
            "Age                          0.172173\n",
            "PaymentTier                  0.107950\n",
            "Education_Masters            0.095057\n",
            "ExperienceInCurrentDomain    0.082334\n",
            "Gender_Male                  0.073182\n",
            "City_Pune                    0.068750\n",
            "City_New Delhi               0.030009\n",
            "EverBenched_Yes              0.018764\n",
            "Education_PHD                0.011918\n",
            "dtype: float64\n"
          ]
        }
      ]
    },
    {
      "cell_type": "code",
      "metadata": {
        "id": "bbf4101b",
        "outputId": "5d140311-e15a-4022-9c58-bf0f8af4fe2a"
      },
      "source": [
        "plt.figure(figsize = (10,6))\n",
        "sns.barplot(x = feature, y = feature.index)\n",
        "plt.title(\"Feature Importance\")\n",
        "plt.xlabel('Score')\n",
        "plt.ylabel('Features')\n",
        "plt.show()"
      ],
      "id": "bbf4101b",
      "execution_count": null,
      "outputs": [
        {
          "data": {
            "image/png": "[encoded data removed]",
            "text/plain": [
              "<Figure size 720x432 with 1 Axes>"
            ]
          },
          "metadata": {
            "needs_background": "light"
          },
          "output_type": "display_data"
        }
      ]
    },
    {
      "cell_type": "code",
      "metadata": {
        "id": "9a6b4aa7"
      },
      "source": [
        ""
      ],
      "id": "9a6b4aa7",
      "execution_count": null,
      "outputs": []
    },
    {
      "cell_type": "code",
      "metadata": {
        "id": "e8095ae2"
      },
      "source": [
        ""
      ],
      "id": "e8095ae2",
      "execution_count": null,
      "outputs": []
    },
    {
      "cell_type": "code",
      "metadata": {
        "id": "d9a900f0"
      },
      "source": [
        ""
      ],
      "id": "d9a900f0",
      "execution_count": null,
      "outputs": []
    },
    {
      "cell_type": "code",
      "metadata": {
        "id": "8273826e"
      },
      "source": [
        ""
      ],
      "id": "8273826e",
      "execution_count": null,
      "outputs": []
    }
  ]
}